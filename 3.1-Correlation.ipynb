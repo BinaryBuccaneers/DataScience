{
 "cells": [
  {
   "cell_type": "markdown",
   "metadata": {
    "id": "GsKPsqbaQpAb"
   },
   "source": [
    "# <font color = \"orange\">Correlation</font>"
   ]
  },
  {
   "cell_type": "markdown",
   "metadata": {
    "id": "U118l1BtQpAe"
   },
   "source": [
    "## 1.0 General Explanation about <font color =\"orange\">Correlation</font>\n",
    "\n",
    "-  Correlation shows the strength of relationship that occurs between two variables <font color = blue>(independent and dependent variable)</font> linearly.\n",
    "-  Correlation is not causation - it does not implies the influence/impact of the variables to another variables.\n",
    "<img src=\"https://drive.google.com/uc?id=14oYb2z_xyM73dJ8IyZfF7dsEJJBGZgJ7\" width = 800 height = 300>\n",
    "\n"
   ]
  },
  {
   "cell_type": "markdown",
   "metadata": {
    "id": "EqbhwLPwQpAf"
   },
   "source": [
    "### 1.1 Further explanation in <font color = \"orange\">Correlation</font>"
   ]
  },
  {
   "cell_type": "code",
   "execution_count": null,
   "metadata": {
    "colab": {
     "base_uri": "https://localhost:8080/",
     "height": 371
    },
    "executionInfo": {
     "elapsed": 1831,
     "status": "ok",
     "timestamp": 1603336200015,
     "user": {
      "displayName": "Ummu Amirah",
      "photoUrl": "https://lh3.googleusercontent.com/a-/AOh14GjP1NlpYoc_oI22yqs_mrDA1sN2KGzfgGN0kht0=s64",
      "userId": "01871118759517508516"
     },
     "user_tz": -480
    },
    "id": "bjN1fHx_QpAg",
    "outputId": "068f8d49-1a9c-4fc7-a775-7e6d5ce63e69"
   },
   "outputs": [
    {
     "data": {
      "text/html": [
       "\n",
       "<iframe width=\"700\" height=\"350\" src=\"https://www.youtube.com/embed/Ypgo4qUBt5o\" frameborder=\"0\" allow=\"accelerometer; autoplay; encrypted-media; gyroscope; picture-in-picture\" allowfullscreen></iframe>"
      ],
      "text/plain": [
       "<IPython.core.display.HTML object>"
      ]
     },
     "metadata": {
      "tags": []
     },
     "output_type": "display_data"
    }
   ],
   "source": [
    "%%HTML\n",
    "\n",
    "<iframe width=\"700\" height=\"350\" src=\"https://www.youtube.com/embed/Ypgo4qUBt5o\" frameborder=\"0\" allow=\"accelerometer; autoplay; encrypted-media; gyroscope; picture-in-picture\" allowfullscreen></iframe>"
   ]
  },
  {
   "cell_type": "markdown",
   "metadata": {
    "id": "BmEQmnEVQpAs"
   },
   "source": [
    "### 1.2 Type of relation in <font color = \"orange\">Correlation</font>\n",
    "\n",
    "<img src=\"https://drive.google.com/uc?id=1WoMj4UrKl-a5qlw_yamgKo-2jWYrOWGV\" width = 800 height = 300>\n",
    "\n",
    "\n",
    "**<font color=\"blue\">1.  Positive linear correlation</font>** \n",
    "    -  when x is increasing, y is also increasing.\n",
    "    -  shows a positive gradient.\n",
    "    -  shows the direction of line in a positive way.\n",
    "\n",
    "**<font color=\"blue\">2.  Negative linear correlation</font>** \n",
    "    -  when x is increasing, y is decreasing.\n",
    "    -  shows a negative gradient.\n",
    "    -  shows the direction of line in a negative way.\n",
    "\n",
    "**<font color=\"blue\">3.  Zero Correlation</font>**\n",
    "    -  when x increases or decreases, there will be no change to y.\n",
    "    -  x is not affecting y or x has no relationship with y.\n",
    "    -  shows a zero gradient, m = 0."
   ]
  },
  {
   "cell_type": "markdown",
   "metadata": {
    "id": "SUHySN5SQpAu"
   },
   "source": [
    "### 1.3 Formula for <font color = \"orange\">Correlation</font>\n",
    "\n",
    "<img src=\"https://drive.google.com/uc?id=100L1Ib8MgBgWkSCmxI-IVyopCXY_gUZ2\" width = 600 height = 200>\n",
    "\n",
    "<img src=\"https://drive.google.com/uc?id=1szgAtSv0d55aSr06rPJcrJpIb3BS30xH\" width = 800 height = 300>\n",
    "\n",
    "-   r = correlation coefficient\n",
    "-   N = number of sample\n",
    "-  ∑x = summation of x\n",
    "-  ∑y = summation of y\n",
    "- ∑x2 = summation of x2\n",
    "- ∑y2 = summation of y2\n",
    "- (∑x)2 = summation of x-squared\n",
    "- (∑y)2 = summation of y-squared"
   ]
  },
  {
   "cell_type": "markdown",
   "metadata": {
    "id": "LucYjX-3QpAv"
   },
   "source": [
    "## 2.0 Example 1 for <font color=\"orange\">Correlation</font>\n",
    "\n",
    "The local ice cream shop keeps track of how much ice cream they sell versus the temperature on that day, here are their figures for the last 12 days:"
   ]
  },
  {
   "cell_type": "code",
   "execution_count": null,
   "metadata": {
    "colab": {
     "base_uri": "https://localhost:8080/",
     "height": 292
    },
    "executionInfo": {
     "elapsed": 2117,
     "status": "ok",
     "timestamp": 1603336200340,
     "user": {
      "displayName": "Ummu Amirah",
      "photoUrl": "https://lh3.googleusercontent.com/a-/AOh14GjP1NlpYoc_oI22yqs_mrDA1sN2KGzfgGN0kht0=s64",
      "userId": "01871118759517508516"
     },
     "user_tz": -480
    },
    "id": "vCKF9KG-QpAx",
    "outputId": "c7852c9e-370b-43fb-b235-ce5924210f2f"
   },
   "outputs": [
    {
     "data": {
      "text/html": [
       "<style  type=\"text/css\" >\n",
       "#T_126b937a_1414_11eb_8b45_0242ac1c0002row0_col0,#T_126b937a_1414_11eb_8b45_0242ac1c0002row0_col1,#T_126b937a_1414_11eb_8b45_0242ac1c0002row1_col0,#T_126b937a_1414_11eb_8b45_0242ac1c0002row1_col1,#T_126b937a_1414_11eb_8b45_0242ac1c0002row2_col0,#T_126b937a_1414_11eb_8b45_0242ac1c0002row2_col1,#T_126b937a_1414_11eb_8b45_0242ac1c0002row3_col0,#T_126b937a_1414_11eb_8b45_0242ac1c0002row3_col1,#T_126b937a_1414_11eb_8b45_0242ac1c0002row4_col0,#T_126b937a_1414_11eb_8b45_0242ac1c0002row4_col1,#T_126b937a_1414_11eb_8b45_0242ac1c0002row5_col0,#T_126b937a_1414_11eb_8b45_0242ac1c0002row5_col1,#T_126b937a_1414_11eb_8b45_0242ac1c0002row6_col0,#T_126b937a_1414_11eb_8b45_0242ac1c0002row6_col1,#T_126b937a_1414_11eb_8b45_0242ac1c0002row7_col0,#T_126b937a_1414_11eb_8b45_0242ac1c0002row7_col1,#T_126b937a_1414_11eb_8b45_0242ac1c0002row8_col0,#T_126b937a_1414_11eb_8b45_0242ac1c0002row8_col1,#T_126b937a_1414_11eb_8b45_0242ac1c0002row9_col0,#T_126b937a_1414_11eb_8b45_0242ac1c0002row9_col1,#T_126b937a_1414_11eb_8b45_0242ac1c0002row10_col0,#T_126b937a_1414_11eb_8b45_0242ac1c0002row10_col1,#T_126b937a_1414_11eb_8b45_0242ac1c0002row11_col0,#T_126b937a_1414_11eb_8b45_0242ac1c0002row11_col1{\n",
       "            text-align:  center;\n",
       "        }</style><table id=\"T_126b937a_1414_11eb_8b45_0242ac1c0002\" ><thead>    <tr>        <th class=\"blank level0\" ></th>        <th class=\"col_heading level0 col0\" >Temperature</th>        <th class=\"col_heading level0 col1\" >Sales</th>    </tr></thead><tbody>\n",
       "                <tr>\n",
       "                        <th id=\"T_126b937a_1414_11eb_8b45_0242ac1c0002level0_row0\" class=\"row_heading level0 row0\" >0</th>\n",
       "                        <td id=\"T_126b937a_1414_11eb_8b45_0242ac1c0002row0_col0\" class=\"data row0 col0\" >14.200000</td>\n",
       "                        <td id=\"T_126b937a_1414_11eb_8b45_0242ac1c0002row0_col1\" class=\"data row0 col1\" >215</td>\n",
       "            </tr>\n",
       "            <tr>\n",
       "                        <th id=\"T_126b937a_1414_11eb_8b45_0242ac1c0002level0_row1\" class=\"row_heading level0 row1\" >1</th>\n",
       "                        <td id=\"T_126b937a_1414_11eb_8b45_0242ac1c0002row1_col0\" class=\"data row1 col0\" >16.400000</td>\n",
       "                        <td id=\"T_126b937a_1414_11eb_8b45_0242ac1c0002row1_col1\" class=\"data row1 col1\" >325</td>\n",
       "            </tr>\n",
       "            <tr>\n",
       "                        <th id=\"T_126b937a_1414_11eb_8b45_0242ac1c0002level0_row2\" class=\"row_heading level0 row2\" >2</th>\n",
       "                        <td id=\"T_126b937a_1414_11eb_8b45_0242ac1c0002row2_col0\" class=\"data row2 col0\" >11.900000</td>\n",
       "                        <td id=\"T_126b937a_1414_11eb_8b45_0242ac1c0002row2_col1\" class=\"data row2 col1\" >185</td>\n",
       "            </tr>\n",
       "            <tr>\n",
       "                        <th id=\"T_126b937a_1414_11eb_8b45_0242ac1c0002level0_row3\" class=\"row_heading level0 row3\" >3</th>\n",
       "                        <td id=\"T_126b937a_1414_11eb_8b45_0242ac1c0002row3_col0\" class=\"data row3 col0\" >15.200000</td>\n",
       "                        <td id=\"T_126b937a_1414_11eb_8b45_0242ac1c0002row3_col1\" class=\"data row3 col1\" >332</td>\n",
       "            </tr>\n",
       "            <tr>\n",
       "                        <th id=\"T_126b937a_1414_11eb_8b45_0242ac1c0002level0_row4\" class=\"row_heading level0 row4\" >4</th>\n",
       "                        <td id=\"T_126b937a_1414_11eb_8b45_0242ac1c0002row4_col0\" class=\"data row4 col0\" >18.500000</td>\n",
       "                        <td id=\"T_126b937a_1414_11eb_8b45_0242ac1c0002row4_col1\" class=\"data row4 col1\" >406</td>\n",
       "            </tr>\n",
       "            <tr>\n",
       "                        <th id=\"T_126b937a_1414_11eb_8b45_0242ac1c0002level0_row5\" class=\"row_heading level0 row5\" >5</th>\n",
       "                        <td id=\"T_126b937a_1414_11eb_8b45_0242ac1c0002row5_col0\" class=\"data row5 col0\" >22.100000</td>\n",
       "                        <td id=\"T_126b937a_1414_11eb_8b45_0242ac1c0002row5_col1\" class=\"data row5 col1\" >522</td>\n",
       "            </tr>\n",
       "            <tr>\n",
       "                        <th id=\"T_126b937a_1414_11eb_8b45_0242ac1c0002level0_row6\" class=\"row_heading level0 row6\" >6</th>\n",
       "                        <td id=\"T_126b937a_1414_11eb_8b45_0242ac1c0002row6_col0\" class=\"data row6 col0\" >19.400000</td>\n",
       "                        <td id=\"T_126b937a_1414_11eb_8b45_0242ac1c0002row6_col1\" class=\"data row6 col1\" >412</td>\n",
       "            </tr>\n",
       "            <tr>\n",
       "                        <th id=\"T_126b937a_1414_11eb_8b45_0242ac1c0002level0_row7\" class=\"row_heading level0 row7\" >7</th>\n",
       "                        <td id=\"T_126b937a_1414_11eb_8b45_0242ac1c0002row7_col0\" class=\"data row7 col0\" >25.100000</td>\n",
       "                        <td id=\"T_126b937a_1414_11eb_8b45_0242ac1c0002row7_col1\" class=\"data row7 col1\" >614</td>\n",
       "            </tr>\n",
       "            <tr>\n",
       "                        <th id=\"T_126b937a_1414_11eb_8b45_0242ac1c0002level0_row8\" class=\"row_heading level0 row8\" >8</th>\n",
       "                        <td id=\"T_126b937a_1414_11eb_8b45_0242ac1c0002row8_col0\" class=\"data row8 col0\" >23.400000</td>\n",
       "                        <td id=\"T_126b937a_1414_11eb_8b45_0242ac1c0002row8_col1\" class=\"data row8 col1\" >544</td>\n",
       "            </tr>\n",
       "            <tr>\n",
       "                        <th id=\"T_126b937a_1414_11eb_8b45_0242ac1c0002level0_row9\" class=\"row_heading level0 row9\" >9</th>\n",
       "                        <td id=\"T_126b937a_1414_11eb_8b45_0242ac1c0002row9_col0\" class=\"data row9 col0\" >18.100000</td>\n",
       "                        <td id=\"T_126b937a_1414_11eb_8b45_0242ac1c0002row9_col1\" class=\"data row9 col1\" >421</td>\n",
       "            </tr>\n",
       "            <tr>\n",
       "                        <th id=\"T_126b937a_1414_11eb_8b45_0242ac1c0002level0_row10\" class=\"row_heading level0 row10\" >10</th>\n",
       "                        <td id=\"T_126b937a_1414_11eb_8b45_0242ac1c0002row10_col0\" class=\"data row10 col0\" >22.600000</td>\n",
       "                        <td id=\"T_126b937a_1414_11eb_8b45_0242ac1c0002row10_col1\" class=\"data row10 col1\" >445</td>\n",
       "            </tr>\n",
       "            <tr>\n",
       "                        <th id=\"T_126b937a_1414_11eb_8b45_0242ac1c0002level0_row11\" class=\"row_heading level0 row11\" >11</th>\n",
       "                        <td id=\"T_126b937a_1414_11eb_8b45_0242ac1c0002row11_col0\" class=\"data row11 col0\" >17.200000</td>\n",
       "                        <td id=\"T_126b937a_1414_11eb_8b45_0242ac1c0002row11_col1\" class=\"data row11 col1\" >408</td>\n",
       "            </tr>\n",
       "    </tbody></table>"
      ],
      "text/plain": [
       "<pandas.io.formats.style.Styler at 0x7f12f3d35160>"
      ]
     },
     "execution_count": 5,
     "metadata": {
      "tags": []
     },
     "output_type": "execute_result"
    }
   ],
   "source": [
    "#creating table using pandas library by inserting data\n",
    "import pandas as pd\n",
    "\n",
    "temperature = [14.2, 16.4, 11.9, 15.2, 18.5, 22.1, 19.4, 25.1, 23.4, 18.1, 22.6, 17.2]\n",
    "sales = [215, 325, 185, 332, 406, 522, 412, 614, 544, 421, 445, 408]\n",
    "\n",
    "question_table = pd.DataFrame(temperature, columns = ['Temperature']);question_table['Sales'] = sales\n",
    "question_table\n",
    "question_table.style.set_properties(**{'text-align': 'center'})"
   ]
  },
  {
   "cell_type": "markdown",
   "metadata": {
    "id": "VRN7S1swQpA-"
   },
   "source": [
    "<img src=\"https://drive.google.com/uc?id=1aKjWp55tQHn-ApiP90rsIuYv4RTMvnh-\" width = 600 height = 300>\n",
    "\n",
    "<img src=\"https://drive.google.com/uc?id=1Nb7525F94d21-ut0MUd1-urgKF4be8E4\" width = 600 height = 500>\n"
   ]
  },
  {
   "cell_type": "markdown",
   "metadata": {
    "id": "VUKNyxDUQpA_"
   },
   "source": [
    "### 2.1 Calculating the <font color = \"orange\">Correlation</font> coefficient step by step:"
   ]
  },
  {
   "cell_type": "code",
   "execution_count": null,
   "metadata": {
    "colab": {
     "base_uri": "https://localhost:8080/",
     "height": 119
    },
    "executionInfo": {
     "elapsed": 964,
     "status": "ok",
     "timestamp": 1603338654422,
     "user": {
      "displayName": "Ummu Amirah",
      "photoUrl": "https://lh3.googleusercontent.com/a-/AOh14GjP1NlpYoc_oI22yqs_mrDA1sN2KGzfgGN0kht0=s64",
      "userId": "01871118759517508516"
     },
     "user_tz": -480
    },
    "id": "xqUgPOFXQpBC",
    "outputId": "25c1dff9-df1b-407a-d34e-1c9d748338cb"
   },
   "outputs": [
    {
     "name": "stdout",
     "output_type": "stream",
     "text": [
      "1. Mean of Temperature (celcius) is  18.675\n",
      "2. Mean of Ice Cream Sales ($) is  402.4166666666667\n",
      "3. Summation of (a x b) is  5325.0250000000015\n",
      "4. Summation of a-squared is  176.98250000000002\n",
      "5. Summation of b-squared is  174754.91666666672\n",
      "6. The correlation coefficient, r is  0.9575066230015952\n"
     ]
    }
   ],
   "source": [
    "x = [14.2, 16.4, 11.9, 15.2, 18.5, 22.1, 19.4, 25.1, 23.4, 18.1, 22.6, 17.2]\n",
    "y = [215, 325, 185, 332, 406, 522, 412, 614, 544, 421, 445, 408]\n",
    "\n",
    "#1st Step: Find the mean of x and mean of y\n",
    "meanX = sum(x) / len(x)\n",
    "meanY = sum(y) / len(y)\n",
    "\n",
    "print( \"1. Mean of Temperature (celcius) is \", meanX)\n",
    "print (\"2. Mean of Ice Cream Sales ($) is \", meanY)\n",
    "\n",
    "#2nd Step: Subtract the mean of x from every x value (assign as a), and the mean of y from y value (assign as as b)\n",
    "a = []\n",
    "for i in x:\n",
    "    differentFromMeanX = i - meanX\n",
    "    a.append(differentFromMeanX)\n",
    "    #print \"List of a is \", a\n",
    "\n",
    "b = []\n",
    "for i in y:\n",
    "    differentFromMeanY = i - meanY\n",
    "    b.append(differentFromMeanY)\n",
    "    #print \"List of b is \", b\n",
    "\n",
    "#3rd Step: Calculate (a x b), summation of a-squared and summation of b-squared\n",
    "ab = []\n",
    "for i in range(len(a)):\n",
    "    ab.append(a[i]*b[i])\n",
    "    #print \"List of (a x b) is \", ab\n",
    "\n",
    "aSquared = []\n",
    "for i in x:\n",
    "    differentFromMeanX = i - meanX\n",
    "    aSquared.append((differentFromMeanX)**2)\n",
    "    #print \"List of a-squared is \", aSquared\n",
    "\n",
    "bSquared = []\n",
    "for i in y:\n",
    "    differentFromMeanY = i - meanY\n",
    "    bSquared.append((differentFromMeanY)**2)\n",
    "    #print \"List of b-squared is \", bSquared\n",
    "\n",
    "#4th Step: Sum up ab, sum up a-squared and sum up b-squared\n",
    "print( \"3. Summation of (a x b) is \", sum(ab))\n",
    "print (\"4. Summation of a-squared is \", sum(aSquared))\n",
    "print (\"5. Summation of b-squared is \", sum(bSquared))\n",
    "\n",
    "#5th Step: Divide the sum of ab by the square root of [(sum of a-squared) x (sum of b-squared)]\n",
    "AB = ((sum(aSquared)) * (sum(bSquared)))\n",
    "sqrtAB = AB ** (0.5)\n",
    "\n",
    "r = sum(ab) / sqrtAB\n",
    "print (\"6. The correlation coefficient, r is \", r)"
   ]
  },
  {
   "cell_type": "markdown",
   "metadata": {
    "id": "jqcyJy2ZQpBW"
   },
   "source": [
    "### 2.2 Straight away <font color = \"orange\">USE NUMPY</font>!"
   ]
  },
  {
   "cell_type": "code",
   "execution_count": null,
   "metadata": {
    "colab": {
     "base_uri": "https://localhost:8080/",
     "height": 51
    },
    "executionInfo": {
     "elapsed": 961,
     "status": "ok",
     "timestamp": 1603338657978,
     "user": {
      "displayName": "Ummu Amirah",
      "photoUrl": "https://lh3.googleusercontent.com/a-/AOh14GjP1NlpYoc_oI22yqs_mrDA1sN2KGzfgGN0kht0=s64",
      "userId": "01871118759517508516"
     },
     "user_tz": -480
    },
    "id": "RYyMcGizQpBX",
    "outputId": "c26f24f2-57f0-45b1-d160-d89d23d150e3"
   },
   "outputs": [
    {
     "data": {
      "text/plain": [
       "array([[1.        , 0.95750662],\n",
       "       [0.95750662, 1.        ]])"
      ]
     },
     "execution_count": 10,
     "metadata": {
      "tags": []
     },
     "output_type": "execute_result"
    }
   ],
   "source": [
    "import numpy as np \n",
    "np.corrcoef(x, y)"
   ]
  },
  {
   "cell_type": "code",
   "execution_count": null,
   "metadata": {
    "colab": {
     "base_uri": "https://localhost:8080/",
     "height": 317
    },
    "executionInfo": {
     "elapsed": 989,
     "status": "ok",
     "timestamp": 1603338660285,
     "user": {
      "displayName": "Ummu Amirah",
      "photoUrl": "https://lh3.googleusercontent.com/a-/AOh14GjP1NlpYoc_oI22yqs_mrDA1sN2KGzfgGN0kht0=s64",
      "userId": "01871118759517508516"
     },
     "user_tz": -480
    },
    "id": "V3X6yTlMQpBg",
    "outputId": "acfa69a3-e543-44d5-83b6-d9540de72d22"
   },
   "outputs": [
    {
     "name": "stderr",
     "output_type": "stream",
     "text": [
      "No handles with labels found to put in legend.\n"
     ]
    },
    {
     "data": {
      "image/png": "[encoded data removed]",
      "text/plain": [
       "<Figure size 432x288 with 1 Axes>"
      ]
     },
     "metadata": {
      "needs_background": "light",
      "tags": []
     },
     "output_type": "display_data"
    }
   ],
   "source": [
    "%matplotlib inline\n",
    "import matplotlib.pyplot as plt\n",
    "import numpy as np\n",
    "\n",
    "x = [14.2, 16.4, 11.9, 15.2, 18.5, 22.1, 19.4, 25.1, 23.4, 18.1, 22.6, 17.2]\n",
    "y = [215, 325, 185, 332, 406, 522, 412, 614, 544, 421, 445, 408]\n",
    "\n",
    "plt.scatter(x, y, c = \"blue\", s = 100, marker = \"o\")\n",
    "plt.xlabel(\"Temperature (Celcius)\", fontsize = 12); plt.ylabel(\"Ice Cream Sales ($)\", fontsize = 12)\n",
    "plt.xticks(size = 10); plt.yticks(size = 10)\n",
    "plt.title(\"Temperature (Celcius) versus Ice Cream Sales ($)\", fontsize = 15)\n",
    "plt.legend(fontsize = 12, loc = (1, 1))\n",
    "plt.show();"
   ]
  },
  {
   "cell_type": "markdown",
   "metadata": {
    "id": "OIg4g5zQQpBn"
   },
   "source": [
    "-  We can easily see that <font color=\"red\">**the warmer the weather, the higher sales go together**</font>.\n",
    "-  Or mathematically we can say that, <font color=\"red\">**as temperature increase, sales are also increase**</font>.\n",
    "-  The relationship is good but not perfect. In fact the correlation is 0.9575."
   ]
  },
  {
   "cell_type": "markdown",
   "metadata": {
    "id": "jNuvvpEtQpBq"
   },
   "source": [
    "## Example 2 for <font color = \"orange\">Correlation</font>\n",
    "\n",
    "Study was conducted to investigate the relationship between <font color = \"red\">score in Data Science</font> and <font color = \"red\">weight in kilogram</font> among students."
   ]
  },
  {
   "cell_type": "code",
   "execution_count": null,
   "metadata": {
    "colab": {
     "base_uri": "https://localhost:8080/",
     "height": 460
    },
    "executionInfo": {
     "elapsed": 933,
     "status": "ok",
     "timestamp": 1603338664042,
     "user": {
      "displayName": "Ummu Amirah",
      "photoUrl": "https://lh3.googleusercontent.com/a-/AOh14GjP1NlpYoc_oI22yqs_mrDA1sN2KGzfgGN0kht0=s64",
      "userId": "01871118759517508516"
     },
     "user_tz": -480
    },
    "id": "jKHZa5PNQpBr",
    "outputId": "b982925f-8df5-47e7-949c-3ba8bad7b0a9"
   },
   "outputs": [
    {
     "data": {
      "text/html": [
       "<style  type=\"text/css\" >\n",
       "#T_cecd23ee_1419_11eb_9395_0242ac1c0002row0_col0,#T_cecd23ee_1419_11eb_9395_0242ac1c0002row0_col1,#T_cecd23ee_1419_11eb_9395_0242ac1c0002row1_col0,#T_cecd23ee_1419_11eb_9395_0242ac1c0002row1_col1,#T_cecd23ee_1419_11eb_9395_0242ac1c0002row2_col0,#T_cecd23ee_1419_11eb_9395_0242ac1c0002row2_col1,#T_cecd23ee_1419_11eb_9395_0242ac1c0002row3_col0,#T_cecd23ee_1419_11eb_9395_0242ac1c0002row3_col1,#T_cecd23ee_1419_11eb_9395_0242ac1c0002row4_col0,#T_cecd23ee_1419_11eb_9395_0242ac1c0002row4_col1,#T_cecd23ee_1419_11eb_9395_0242ac1c0002row5_col0,#T_cecd23ee_1419_11eb_9395_0242ac1c0002row5_col1,#T_cecd23ee_1419_11eb_9395_0242ac1c0002row6_col0,#T_cecd23ee_1419_11eb_9395_0242ac1c0002row6_col1,#T_cecd23ee_1419_11eb_9395_0242ac1c0002row7_col0,#T_cecd23ee_1419_11eb_9395_0242ac1c0002row7_col1,#T_cecd23ee_1419_11eb_9395_0242ac1c0002row8_col0,#T_cecd23ee_1419_11eb_9395_0242ac1c0002row8_col1,#T_cecd23ee_1419_11eb_9395_0242ac1c0002row9_col0,#T_cecd23ee_1419_11eb_9395_0242ac1c0002row9_col1,#T_cecd23ee_1419_11eb_9395_0242ac1c0002row10_col0,#T_cecd23ee_1419_11eb_9395_0242ac1c0002row10_col1,#T_cecd23ee_1419_11eb_9395_0242ac1c0002row11_col0,#T_cecd23ee_1419_11eb_9395_0242ac1c0002row11_col1,#T_cecd23ee_1419_11eb_9395_0242ac1c0002row12_col0,#T_cecd23ee_1419_11eb_9395_0242ac1c0002row12_col1,#T_cecd23ee_1419_11eb_9395_0242ac1c0002row13_col0,#T_cecd23ee_1419_11eb_9395_0242ac1c0002row13_col1,#T_cecd23ee_1419_11eb_9395_0242ac1c0002row14_col0,#T_cecd23ee_1419_11eb_9395_0242ac1c0002row14_col1,#T_cecd23ee_1419_11eb_9395_0242ac1c0002row15_col0,#T_cecd23ee_1419_11eb_9395_0242ac1c0002row15_col1,#T_cecd23ee_1419_11eb_9395_0242ac1c0002row16_col0,#T_cecd23ee_1419_11eb_9395_0242ac1c0002row16_col1,#T_cecd23ee_1419_11eb_9395_0242ac1c0002row17_col0,#T_cecd23ee_1419_11eb_9395_0242ac1c0002row17_col1,#T_cecd23ee_1419_11eb_9395_0242ac1c0002row18_col0,#T_cecd23ee_1419_11eb_9395_0242ac1c0002row18_col1,#T_cecd23ee_1419_11eb_9395_0242ac1c0002row19_col0,#T_cecd23ee_1419_11eb_9395_0242ac1c0002row19_col1{\n",
       "            text-align:  center;\n",
       "        }</style><table id=\"T_cecd23ee_1419_11eb_9395_0242ac1c0002\" ><thead>    <tr>        <th class=\"blank level0\" ></th>        <th class=\"col_heading level0 col0\" >Score ( /50)</th>        <th class=\"col_heading level0 col1\" >Weight (kg)</th>    </tr></thead><tbody>\n",
       "                <tr>\n",
       "                        <th id=\"T_cecd23ee_1419_11eb_9395_0242ac1c0002level0_row0\" class=\"row_heading level0 row0\" >0</th>\n",
       "                        <td id=\"T_cecd23ee_1419_11eb_9395_0242ac1c0002row0_col0\" class=\"data row0 col0\" >3</td>\n",
       "                        <td id=\"T_cecd23ee_1419_11eb_9395_0242ac1c0002row0_col1\" class=\"data row0 col1\" >30</td>\n",
       "            </tr>\n",
       "            <tr>\n",
       "                        <th id=\"T_cecd23ee_1419_11eb_9395_0242ac1c0002level0_row1\" class=\"row_heading level0 row1\" >1</th>\n",
       "                        <td id=\"T_cecd23ee_1419_11eb_9395_0242ac1c0002row1_col0\" class=\"data row1 col0\" >5</td>\n",
       "                        <td id=\"T_cecd23ee_1419_11eb_9395_0242ac1c0002row1_col1\" class=\"data row1 col1\" >32</td>\n",
       "            </tr>\n",
       "            <tr>\n",
       "                        <th id=\"T_cecd23ee_1419_11eb_9395_0242ac1c0002level0_row2\" class=\"row_heading level0 row2\" >2</th>\n",
       "                        <td id=\"T_cecd23ee_1419_11eb_9395_0242ac1c0002row2_col0\" class=\"data row2 col0\" >8</td>\n",
       "                        <td id=\"T_cecd23ee_1419_11eb_9395_0242ac1c0002row2_col1\" class=\"data row2 col1\" >34</td>\n",
       "            </tr>\n",
       "            <tr>\n",
       "                        <th id=\"T_cecd23ee_1419_11eb_9395_0242ac1c0002level0_row3\" class=\"row_heading level0 row3\" >3</th>\n",
       "                        <td id=\"T_cecd23ee_1419_11eb_9395_0242ac1c0002row3_col0\" class=\"data row3 col0\" >10</td>\n",
       "                        <td id=\"T_cecd23ee_1419_11eb_9395_0242ac1c0002row3_col1\" class=\"data row3 col1\" >35</td>\n",
       "            </tr>\n",
       "            <tr>\n",
       "                        <th id=\"T_cecd23ee_1419_11eb_9395_0242ac1c0002level0_row4\" class=\"row_heading level0 row4\" >4</th>\n",
       "                        <td id=\"T_cecd23ee_1419_11eb_9395_0242ac1c0002row4_col0\" class=\"data row4 col0\" >13</td>\n",
       "                        <td id=\"T_cecd23ee_1419_11eb_9395_0242ac1c0002row4_col1\" class=\"data row4 col1\" >38</td>\n",
       "            </tr>\n",
       "            <tr>\n",
       "                        <th id=\"T_cecd23ee_1419_11eb_9395_0242ac1c0002level0_row5\" class=\"row_heading level0 row5\" >5</th>\n",
       "                        <td id=\"T_cecd23ee_1419_11eb_9395_0242ac1c0002row5_col0\" class=\"data row5 col0\" >15</td>\n",
       "                        <td id=\"T_cecd23ee_1419_11eb_9395_0242ac1c0002row5_col1\" class=\"data row5 col1\" >39</td>\n",
       "            </tr>\n",
       "            <tr>\n",
       "                        <th id=\"T_cecd23ee_1419_11eb_9395_0242ac1c0002level0_row6\" class=\"row_heading level0 row6\" >6</th>\n",
       "                        <td id=\"T_cecd23ee_1419_11eb_9395_0242ac1c0002row6_col0\" class=\"data row6 col0\" >18</td>\n",
       "                        <td id=\"T_cecd23ee_1419_11eb_9395_0242ac1c0002row6_col1\" class=\"data row6 col1\" >41</td>\n",
       "            </tr>\n",
       "            <tr>\n",
       "                        <th id=\"T_cecd23ee_1419_11eb_9395_0242ac1c0002level0_row7\" class=\"row_heading level0 row7\" >7</th>\n",
       "                        <td id=\"T_cecd23ee_1419_11eb_9395_0242ac1c0002row7_col0\" class=\"data row7 col0\" >20</td>\n",
       "                        <td id=\"T_cecd23ee_1419_11eb_9395_0242ac1c0002row7_col1\" class=\"data row7 col1\" >43</td>\n",
       "            </tr>\n",
       "            <tr>\n",
       "                        <th id=\"T_cecd23ee_1419_11eb_9395_0242ac1c0002level0_row8\" class=\"row_heading level0 row8\" >8</th>\n",
       "                        <td id=\"T_cecd23ee_1419_11eb_9395_0242ac1c0002row8_col0\" class=\"data row8 col0\" >28</td>\n",
       "                        <td id=\"T_cecd23ee_1419_11eb_9395_0242ac1c0002row8_col1\" class=\"data row8 col1\" >44</td>\n",
       "            </tr>\n",
       "            <tr>\n",
       "                        <th id=\"T_cecd23ee_1419_11eb_9395_0242ac1c0002level0_row9\" class=\"row_heading level0 row9\" >9</th>\n",
       "                        <td id=\"T_cecd23ee_1419_11eb_9395_0242ac1c0002row9_col0\" class=\"data row9 col0\" >32</td>\n",
       "                        <td id=\"T_cecd23ee_1419_11eb_9395_0242ac1c0002row9_col1\" class=\"data row9 col1\" >46</td>\n",
       "            </tr>\n",
       "            <tr>\n",
       "                        <th id=\"T_cecd23ee_1419_11eb_9395_0242ac1c0002level0_row10\" class=\"row_heading level0 row10\" >10</th>\n",
       "                        <td id=\"T_cecd23ee_1419_11eb_9395_0242ac1c0002row10_col0\" class=\"data row10 col0\" >35</td>\n",
       "                        <td id=\"T_cecd23ee_1419_11eb_9395_0242ac1c0002row10_col1\" class=\"data row10 col1\" >47</td>\n",
       "            </tr>\n",
       "            <tr>\n",
       "                        <th id=\"T_cecd23ee_1419_11eb_9395_0242ac1c0002level0_row11\" class=\"row_heading level0 row11\" >11</th>\n",
       "                        <td id=\"T_cecd23ee_1419_11eb_9395_0242ac1c0002row11_col0\" class=\"data row11 col0\" >39</td>\n",
       "                        <td id=\"T_cecd23ee_1419_11eb_9395_0242ac1c0002row11_col1\" class=\"data row11 col1\" >50</td>\n",
       "            </tr>\n",
       "            <tr>\n",
       "                        <th id=\"T_cecd23ee_1419_11eb_9395_0242ac1c0002level0_row12\" class=\"row_heading level0 row12\" >12</th>\n",
       "                        <td id=\"T_cecd23ee_1419_11eb_9395_0242ac1c0002row12_col0\" class=\"data row12 col0\" >40</td>\n",
       "                        <td id=\"T_cecd23ee_1419_11eb_9395_0242ac1c0002row12_col1\" class=\"data row12 col1\" >51</td>\n",
       "            </tr>\n",
       "            <tr>\n",
       "                        <th id=\"T_cecd23ee_1419_11eb_9395_0242ac1c0002level0_row13\" class=\"row_heading level0 row13\" >13</th>\n",
       "                        <td id=\"T_cecd23ee_1419_11eb_9395_0242ac1c0002row13_col0\" class=\"data row13 col0\" >40</td>\n",
       "                        <td id=\"T_cecd23ee_1419_11eb_9395_0242ac1c0002row13_col1\" class=\"data row13 col1\" >53</td>\n",
       "            </tr>\n",
       "            <tr>\n",
       "                        <th id=\"T_cecd23ee_1419_11eb_9395_0242ac1c0002level0_row14\" class=\"row_heading level0 row14\" >14</th>\n",
       "                        <td id=\"T_cecd23ee_1419_11eb_9395_0242ac1c0002row14_col0\" class=\"data row14 col0\" >42</td>\n",
       "                        <td id=\"T_cecd23ee_1419_11eb_9395_0242ac1c0002row14_col1\" class=\"data row14 col1\" >54</td>\n",
       "            </tr>\n",
       "            <tr>\n",
       "                        <th id=\"T_cecd23ee_1419_11eb_9395_0242ac1c0002level0_row15\" class=\"row_heading level0 row15\" >15</th>\n",
       "                        <td id=\"T_cecd23ee_1419_11eb_9395_0242ac1c0002row15_col0\" class=\"data row15 col0\" >43</td>\n",
       "                        <td id=\"T_cecd23ee_1419_11eb_9395_0242ac1c0002row15_col1\" class=\"data row15 col1\" >58</td>\n",
       "            </tr>\n",
       "            <tr>\n",
       "                        <th id=\"T_cecd23ee_1419_11eb_9395_0242ac1c0002level0_row16\" class=\"row_heading level0 row16\" >16</th>\n",
       "                        <td id=\"T_cecd23ee_1419_11eb_9395_0242ac1c0002row16_col0\" class=\"data row16 col0\" >45</td>\n",
       "                        <td id=\"T_cecd23ee_1419_11eb_9395_0242ac1c0002row16_col1\" class=\"data row16 col1\" >60</td>\n",
       "            </tr>\n",
       "            <tr>\n",
       "                        <th id=\"T_cecd23ee_1419_11eb_9395_0242ac1c0002level0_row17\" class=\"row_heading level0 row17\" >17</th>\n",
       "                        <td id=\"T_cecd23ee_1419_11eb_9395_0242ac1c0002row17_col0\" class=\"data row17 col0\" >46</td>\n",
       "                        <td id=\"T_cecd23ee_1419_11eb_9395_0242ac1c0002row17_col1\" class=\"data row17 col1\" >65</td>\n",
       "            </tr>\n",
       "            <tr>\n",
       "                        <th id=\"T_cecd23ee_1419_11eb_9395_0242ac1c0002level0_row18\" class=\"row_heading level0 row18\" >18</th>\n",
       "                        <td id=\"T_cecd23ee_1419_11eb_9395_0242ac1c0002row18_col0\" class=\"data row18 col0\" >47</td>\n",
       "                        <td id=\"T_cecd23ee_1419_11eb_9395_0242ac1c0002row18_col1\" class=\"data row18 col1\" >66</td>\n",
       "            </tr>\n",
       "            <tr>\n",
       "                        <th id=\"T_cecd23ee_1419_11eb_9395_0242ac1c0002level0_row19\" class=\"row_heading level0 row19\" >19</th>\n",
       "                        <td id=\"T_cecd23ee_1419_11eb_9395_0242ac1c0002row19_col0\" class=\"data row19 col0\" >48</td>\n",
       "                        <td id=\"T_cecd23ee_1419_11eb_9395_0242ac1c0002row19_col1\" class=\"data row19 col1\" >70</td>\n",
       "            </tr>\n",
       "    </tbody></table>"
      ],
      "text/plain": [
       "<pandas.io.formats.style.Styler at 0x7f4d1e1a8898>"
      ]
     },
     "execution_count": 12,
     "metadata": {
      "tags": []
     },
     "output_type": "execute_result"
    }
   ],
   "source": [
    "import pandas as pd\n",
    "\n",
    "score = [3, 5, 8, 10, 13, 15, 18, 20, 28, 32, 35, 39, 40, 40, 42, 43, 45, 46, 47, 48]\n",
    "weight = [30, 32, 34, 35, 38, 39, 41, 43, 44, 46, 47, 50, 51, 53, 54, 58, 60, 65, 66, 70]\n",
    "\n",
    "table = pd.DataFrame(score, columns = ['Score ( /50)']); table['Weight (kg)'] = weight\n",
    "table\n",
    "table.style.set_properties(**{'text-align':'center'})"
   ]
  },
  {
   "cell_type": "code",
   "execution_count": null,
   "metadata": {
    "colab": {
     "base_uri": "https://localhost:8080/",
     "height": 315
    },
    "executionInfo": {
     "elapsed": 993,
     "status": "ok",
     "timestamp": 1603338667373,
     "user": {
      "displayName": "Ummu Amirah",
      "photoUrl": "https://lh3.googleusercontent.com/a-/AOh14GjP1NlpYoc_oI22yqs_mrDA1sN2KGzfgGN0kht0=s64",
      "userId": "01871118759517508516"
     },
     "user_tz": -480
    },
    "id": "mW2Vfee-QpB1",
    "outputId": "0d6a6208-e501-41f7-c15a-aa4e5463d71b"
   },
   "outputs": [
    {
     "name": "stderr",
     "output_type": "stream",
     "text": [
      "No handles with labels found to put in legend.\n"
     ]
    },
    {
     "data": {
      "image/png": "[encoded data removed]",
      "text/plain": [
       "<Figure size 432x288 with 1 Axes>"
      ]
     },
     "metadata": {
      "needs_background": "light",
      "tags": []
     },
     "output_type": "display_data"
    }
   ],
   "source": [
    "%matplotlib inline\n",
    "import matplotlib.pyplot as plt\n",
    "import numpy as np\n",
    "\n",
    "x = [3, 5, 8, 10, 13, 15, 18, 20, 28, 32, 35, 39, 40, 40, 42, 43, 45, 46, 47, 48]\n",
    "y = [30, 32, 34, 35, 38, 39, 41, 43, 44, 46, 47, 50, 51, 53, 54, 58, 60, 65, 66, 70]\n",
    "\n",
    "plt.scatter(x, y, c =\"red\", s = 100, marker = \"o\")\n",
    "plt.xlabel('Score in Data Science', fontsize = 12); plt.ylabel('Weight in kilograms', fontsize = 12)\n",
    "plt.xticks(size = 10); plt.yticks(size = 10)\n",
    "plt.title('Relationship between Score in Data Science and Weight in kg', fontsize = 12)\n",
    "plt.legend(fontsize = 12, loc = (1, 1))\n",
    "plt.show();"
   ]
  },
  {
   "cell_type": "code",
   "execution_count": null,
   "metadata": {
    "colab": {
     "base_uri": "https://localhost:8080/",
     "height": 51
    },
    "executionInfo": {
     "elapsed": 1021,
     "status": "ok",
     "timestamp": 1603338670665,
     "user": {
      "displayName": "Ummu Amirah",
      "photoUrl": "https://lh3.googleusercontent.com/a-/AOh14GjP1NlpYoc_oI22yqs_mrDA1sN2KGzfgGN0kht0=s64",
      "userId": "01871118759517508516"
     },
     "user_tz": -480
    },
    "id": "7DWgCZBiQpB8",
    "outputId": "cae21cac-6304-4198-afd2-3794ed864190"
   },
   "outputs": [
    {
     "data": {
      "text/plain": [
       "array([[1.        , 0.95040736],\n",
       "       [0.95040736, 1.        ]])"
      ]
     },
     "execution_count": 14,
     "metadata": {
      "tags": []
     },
     "output_type": "execute_result"
    }
   ],
   "source": [
    "import numpy as np\n",
    "\n",
    "np.corrcoef(x, y)"
   ]
  },
  {
   "cell_type": "markdown",
   "metadata": {
    "id": "WWzcHON9QpCC"
   },
   "source": [
    "## 3.0 Question for <font color = \"orange\">Correlation</font>"
   ]
  },
  {
   "cell_type": "markdown",
   "metadata": {
    "id": "0mGKEs-tQpCD"
   },
   "source": [
    "### <font color = \"maroon\">Question 1</font>\n",
    "\n",
    "Taller people tend to weigh more and shorter people tend to weigh less. By referring to table below, create a list of Height (as x) and a list of Weight (as y). Predict type of relation between these two lists of data."
   ]
  },
  {
   "cell_type": "code",
   "execution_count": null,
   "metadata": {
    "colab": {
     "base_uri": "https://localhost:8080/",
     "height": 355
    },
    "executionInfo": {
     "elapsed": 905,
     "status": "ok",
     "timestamp": 1603338675330,
     "user": {
      "displayName": "Ummu Amirah",
      "photoUrl": "https://lh3.googleusercontent.com/a-/AOh14GjP1NlpYoc_oI22yqs_mrDA1sN2KGzfgGN0kht0=s64",
      "userId": "01871118759517508516"
     },
     "user_tz": -480
    },
    "id": "rCCGrc7CQpCE",
    "outputId": "c3576235-99c6-4b22-e8f1-775ac34a1927"
   },
   "outputs": [
    {
     "data": {
      "text/html": [
       "<style  type=\"text/css\" >\n",
       "#T_d58398c6_1419_11eb_9395_0242ac1c0002row0_col0,#T_d58398c6_1419_11eb_9395_0242ac1c0002row0_col1,#T_d58398c6_1419_11eb_9395_0242ac1c0002row1_col0,#T_d58398c6_1419_11eb_9395_0242ac1c0002row1_col1,#T_d58398c6_1419_11eb_9395_0242ac1c0002row2_col0,#T_d58398c6_1419_11eb_9395_0242ac1c0002row2_col1,#T_d58398c6_1419_11eb_9395_0242ac1c0002row3_col0,#T_d58398c6_1419_11eb_9395_0242ac1c0002row3_col1,#T_d58398c6_1419_11eb_9395_0242ac1c0002row4_col0,#T_d58398c6_1419_11eb_9395_0242ac1c0002row4_col1,#T_d58398c6_1419_11eb_9395_0242ac1c0002row5_col0,#T_d58398c6_1419_11eb_9395_0242ac1c0002row5_col1,#T_d58398c6_1419_11eb_9395_0242ac1c0002row6_col0,#T_d58398c6_1419_11eb_9395_0242ac1c0002row6_col1,#T_d58398c6_1419_11eb_9395_0242ac1c0002row7_col0,#T_d58398c6_1419_11eb_9395_0242ac1c0002row7_col1,#T_d58398c6_1419_11eb_9395_0242ac1c0002row8_col0,#T_d58398c6_1419_11eb_9395_0242ac1c0002row8_col1,#T_d58398c6_1419_11eb_9395_0242ac1c0002row9_col0,#T_d58398c6_1419_11eb_9395_0242ac1c0002row9_col1,#T_d58398c6_1419_11eb_9395_0242ac1c0002row10_col0,#T_d58398c6_1419_11eb_9395_0242ac1c0002row10_col1,#T_d58398c6_1419_11eb_9395_0242ac1c0002row11_col0,#T_d58398c6_1419_11eb_9395_0242ac1c0002row11_col1,#T_d58398c6_1419_11eb_9395_0242ac1c0002row12_col0,#T_d58398c6_1419_11eb_9395_0242ac1c0002row12_col1,#T_d58398c6_1419_11eb_9395_0242ac1c0002row13_col0,#T_d58398c6_1419_11eb_9395_0242ac1c0002row13_col1,#T_d58398c6_1419_11eb_9395_0242ac1c0002row14_col0,#T_d58398c6_1419_11eb_9395_0242ac1c0002row14_col1{\n",
       "            text-align:  center;\n",
       "        }</style><table id=\"T_d58398c6_1419_11eb_9395_0242ac1c0002\" ><thead>    <tr>        <th class=\"blank level0\" ></th>        <th class=\"col_heading level0 col0\" >Height (cm)</th>        <th class=\"col_heading level0 col1\" >Weight (kg)</th>    </tr></thead><tbody>\n",
       "                <tr>\n",
       "                        <th id=\"T_d58398c6_1419_11eb_9395_0242ac1c0002level0_row0\" class=\"row_heading level0 row0\" >0</th>\n",
       "                        <td id=\"T_d58398c6_1419_11eb_9395_0242ac1c0002row0_col0\" class=\"data row0 col0\" >173.000000</td>\n",
       "                        <td id=\"T_d58398c6_1419_11eb_9395_0242ac1c0002row0_col1\" class=\"data row0 col1\" >50</td>\n",
       "            </tr>\n",
       "            <tr>\n",
       "                        <th id=\"T_d58398c6_1419_11eb_9395_0242ac1c0002level0_row1\" class=\"row_heading level0 row1\" >1</th>\n",
       "                        <td id=\"T_d58398c6_1419_11eb_9395_0242ac1c0002row1_col0\" class=\"data row1 col0\" >173.000000</td>\n",
       "                        <td id=\"T_d58398c6_1419_11eb_9395_0242ac1c0002row1_col1\" class=\"data row1 col1\" >73</td>\n",
       "            </tr>\n",
       "            <tr>\n",
       "                        <th id=\"T_d58398c6_1419_11eb_9395_0242ac1c0002level0_row2\" class=\"row_heading level0 row2\" >2</th>\n",
       "                        <td id=\"T_d58398c6_1419_11eb_9395_0242ac1c0002row2_col0\" class=\"data row2 col0\" >162.000000</td>\n",
       "                        <td id=\"T_d58398c6_1419_11eb_9395_0242ac1c0002row2_col1\" class=\"data row2 col1\" >53</td>\n",
       "            </tr>\n",
       "            <tr>\n",
       "                        <th id=\"T_d58398c6_1419_11eb_9395_0242ac1c0002level0_row3\" class=\"row_heading level0 row3\" >3</th>\n",
       "                        <td id=\"T_d58398c6_1419_11eb_9395_0242ac1c0002row3_col0\" class=\"data row3 col0\" >163.000000</td>\n",
       "                        <td id=\"T_d58398c6_1419_11eb_9395_0242ac1c0002row3_col1\" class=\"data row3 col1\" >85</td>\n",
       "            </tr>\n",
       "            <tr>\n",
       "                        <th id=\"T_d58398c6_1419_11eb_9395_0242ac1c0002level0_row4\" class=\"row_heading level0 row4\" >4</th>\n",
       "                        <td id=\"T_d58398c6_1419_11eb_9395_0242ac1c0002row4_col0\" class=\"data row4 col0\" >152.000000</td>\n",
       "                        <td id=\"T_d58398c6_1419_11eb_9395_0242ac1c0002row4_col1\" class=\"data row4 col1\" >74</td>\n",
       "            </tr>\n",
       "            <tr>\n",
       "                        <th id=\"T_d58398c6_1419_11eb_9395_0242ac1c0002level0_row5\" class=\"row_heading level0 row5\" >5</th>\n",
       "                        <td id=\"T_d58398c6_1419_11eb_9395_0242ac1c0002row5_col0\" class=\"data row5 col0\" >172.000000</td>\n",
       "                        <td id=\"T_d58398c6_1419_11eb_9395_0242ac1c0002row5_col1\" class=\"data row5 col1\" >62</td>\n",
       "            </tr>\n",
       "            <tr>\n",
       "                        <th id=\"T_d58398c6_1419_11eb_9395_0242ac1c0002level0_row6\" class=\"row_heading level0 row6\" >6</th>\n",
       "                        <td id=\"T_d58398c6_1419_11eb_9395_0242ac1c0002row6_col0\" class=\"data row6 col0\" >170.000000</td>\n",
       "                        <td id=\"T_d58398c6_1419_11eb_9395_0242ac1c0002row6_col1\" class=\"data row6 col1\" >75</td>\n",
       "            </tr>\n",
       "            <tr>\n",
       "                        <th id=\"T_d58398c6_1419_11eb_9395_0242ac1c0002level0_row7\" class=\"row_heading level0 row7\" >7</th>\n",
       "                        <td id=\"T_d58398c6_1419_11eb_9395_0242ac1c0002row7_col0\" class=\"data row7 col0\" >171.000000</td>\n",
       "                        <td id=\"T_d58398c6_1419_11eb_9395_0242ac1c0002row7_col1\" class=\"data row7 col1\" >68</td>\n",
       "            </tr>\n",
       "            <tr>\n",
       "                        <th id=\"T_d58398c6_1419_11eb_9395_0242ac1c0002level0_row8\" class=\"row_heading level0 row8\" >8</th>\n",
       "                        <td id=\"T_d58398c6_1419_11eb_9395_0242ac1c0002row8_col0\" class=\"data row8 col0\" >163.900000</td>\n",
       "                        <td id=\"T_d58398c6_1419_11eb_9395_0242ac1c0002row8_col1\" class=\"data row8 col1\" >65</td>\n",
       "            </tr>\n",
       "            <tr>\n",
       "                        <th id=\"T_d58398c6_1419_11eb_9395_0242ac1c0002level0_row9\" class=\"row_heading level0 row9\" >9</th>\n",
       "                        <td id=\"T_d58398c6_1419_11eb_9395_0242ac1c0002row9_col0\" class=\"data row9 col0\" >151.000000</td>\n",
       "                        <td id=\"T_d58398c6_1419_11eb_9395_0242ac1c0002row9_col1\" class=\"data row9 col1\" >78</td>\n",
       "            </tr>\n",
       "            <tr>\n",
       "                        <th id=\"T_d58398c6_1419_11eb_9395_0242ac1c0002level0_row10\" class=\"row_heading level0 row10\" >10</th>\n",
       "                        <td id=\"T_d58398c6_1419_11eb_9395_0242ac1c0002row10_col0\" class=\"data row10 col0\" >149.900000</td>\n",
       "                        <td id=\"T_d58398c6_1419_11eb_9395_0242ac1c0002row10_col1\" class=\"data row10 col1\" >50</td>\n",
       "            </tr>\n",
       "            <tr>\n",
       "                        <th id=\"T_d58398c6_1419_11eb_9395_0242ac1c0002level0_row11\" class=\"row_heading level0 row11\" >11</th>\n",
       "                        <td id=\"T_d58398c6_1419_11eb_9395_0242ac1c0002row11_col0\" class=\"data row11 col0\" >149.900000</td>\n",
       "                        <td id=\"T_d58398c6_1419_11eb_9395_0242ac1c0002row11_col1\" class=\"data row11 col1\" >62</td>\n",
       "            </tr>\n",
       "            <tr>\n",
       "                        <th id=\"T_d58398c6_1419_11eb_9395_0242ac1c0002level0_row12\" class=\"row_heading level0 row12\" >12</th>\n",
       "                        <td id=\"T_d58398c6_1419_11eb_9395_0242ac1c0002row12_col0\" class=\"data row12 col0\" >164.000000</td>\n",
       "                        <td id=\"T_d58398c6_1419_11eb_9395_0242ac1c0002row12_col1\" class=\"data row12 col1\" >57</td>\n",
       "            </tr>\n",
       "            <tr>\n",
       "                        <th id=\"T_d58398c6_1419_11eb_9395_0242ac1c0002level0_row13\" class=\"row_heading level0 row13\" >13</th>\n",
       "                        <td id=\"T_d58398c6_1419_11eb_9395_0242ac1c0002row13_col0\" class=\"data row13 col0\" >180.000000</td>\n",
       "                        <td id=\"T_d58398c6_1419_11eb_9395_0242ac1c0002row13_col1\" class=\"data row13 col1\" >85</td>\n",
       "            </tr>\n",
       "            <tr>\n",
       "                        <th id=\"T_d58398c6_1419_11eb_9395_0242ac1c0002level0_row14\" class=\"row_heading level0 row14\" >14</th>\n",
       "                        <td id=\"T_d58398c6_1419_11eb_9395_0242ac1c0002row14_col0\" class=\"data row14 col0\" >167.000000</td>\n",
       "                        <td id=\"T_d58398c6_1419_11eb_9395_0242ac1c0002row14_col1\" class=\"data row14 col1\" >51</td>\n",
       "            </tr>\n",
       "    </tbody></table>"
      ],
      "text/plain": [
       "<pandas.io.formats.style.Styler at 0x7f4d1da01940>"
      ]
     },
     "execution_count": 15,
     "metadata": {
      "tags": []
     },
     "output_type": "execute_result"
    }
   ],
   "source": [
    "import pandas as pd\n",
    "\n",
    "height = [173.0, 173.0, 162.0, 163.0, 152.0, 172.0, 170.0, 171.0, 163.9, 151.0, 149.9, 149.9, 164.0, 180.0, 167.0]\n",
    "weight = [50, 73, 53, 85, 74, 62, 75, 68, 65, 78, 50, 62, 57, 85, 51]\n",
    "\n",
    "table = pd.DataFrame(height, columns = ['Height (cm)']); table['Weight (kg)'] = weight\n",
    "table\n",
    "table.style.set_properties(**{'text-align' : 'center'})"
   ]
  },
  {
   "cell_type": "markdown",
   "metadata": {
    "id": "Y5UKcRXAQpCL"
   },
   "source": [
    "### <font color = \"maroon\">Question 2</font>\n",
    "\n",
    "By referring to table in Question 1, import **matplotlib.pyplot** to draw a scatter plot graph of Height (cm) versus Weight (kg). Label of both axes, ticks, title and legend should be in your graph.\n",
    "\n",
    "From your plotted graph, write a conclusion about these two variables and the type of relation exists between them."
   ]
  },
  {
   "cell_type": "code",
   "execution_count": null,
   "metadata": {
    "colab": {
     "base_uri": "https://localhost:8080/",
     "height": 300
    },
    "executionInfo": {
     "elapsed": 1132,
     "status": "ok",
     "timestamp": 1603338678584,
     "user": {
      "displayName": "Ummu Amirah",
      "photoUrl": "https://lh3.googleusercontent.com/a-/AOh14GjP1NlpYoc_oI22yqs_mrDA1sN2KGzfgGN0kht0=s64",
      "userId": "01871118759517508516"
     },
     "user_tz": -480
    },
    "id": "1qrkoCr6QpCN",
    "outputId": "15f413b9-770c-4771-df63-c7db014549f0"
   },
   "outputs": [
    {
     "data": {
      "image/png": "[encoded data removed]",
      "text/plain": [
       "<Figure size 432x288 with 1 Axes>"
      ]
     },
     "metadata": {
      "needs_background": "light",
      "tags": []
     },
     "output_type": "display_data"
    }
   ],
   "source": [
    "height = [173.0, 173.0, 162.0, 163.0, 152.0, 172.0, 170.0, 171.0, 163.9, 151.0, 149.9, 149.9, 164.0, 180.0, 167.0]\n",
    "weight = [50, 73, 53, 85, 74, 62, 75, 68, 65, 78, 50, 62, 57, 85, 51]\n",
    "\n",
    "import matplotlib.pyplot as plt\n",
    "\n",
    "plt.scatter( height, weight, c = \"maroon\", s = 100, marker = \"o\")\n",
    "plt.xlabel(\"Height (cm)\", fontsize = 12); plt.ylabel(\"Weight (kg)\", fontsize = 12)\n",
    "plt.xticks(size = 10); plt.yticks(size = 10)\n",
    "plt.title(\"Height (cm) versus Weight (kg)\", fontsize = 15)\n",
    "plt.show();"
   ]
  },
  {
   "cell_type": "markdown",
   "metadata": {
    "id": "fv4p3eK6QpCU"
   },
   "source": [
    "### <font color = \"maroon\">Question 3</font>\n",
    "\n",
    "By referring to table in Question 1, calculate the **correlation coefficient, r** step by step."
   ]
  },
  {
   "cell_type": "code",
   "execution_count": null,
   "metadata": {
    "colab": {
     "base_uri": "https://localhost:8080/",
     "height": 119
    },
    "executionInfo": {
     "elapsed": 943,
     "status": "ok",
     "timestamp": 1603338711378,
     "user": {
      "displayName": "Ummu Amirah",
      "photoUrl": "https://lh3.googleusercontent.com/a-/AOh14GjP1NlpYoc_oI22yqs_mrDA1sN2KGzfgGN0kht0=s64",
      "userId": "01871118759517508516"
     },
     "user_tz": -480
    },
    "id": "B1BZ-lOUQpCW",
    "outputId": "327246fc-d749-409f-f713-1ab7810c0e41"
   },
   "outputs": [
    {
     "name": "stdout",
     "output_type": "stream",
     "text": [
      "1. Mean of Height (cm) is  164.11333333333334\n",
      "2. Mean of Weight (kg) is  65.86666666666666\n",
      "3. Summation of (a x b) is  251.32666666666648\n",
      "4. Summation of a-squared is  1291.437333333333\n",
      "5. Summation od b-squared is  2083.733333333333\n",
      "6. The correlation coefficient, r is  0.15320778477451918\n"
     ]
    }
   ],
   "source": [
    "height = [173.0, 173.0, 162.0, 163.0, 152.0, 172.0, 170.0, 171.0, 163.9, 151.0, 149.9, 149.9, 164.0, 180.0, 167.0]\n",
    "weight = [50, 73, 53, 85, 74, 62, 75, 68, 65, 78, 50, 62, 57, 85, 51]\n",
    "\n",
    "#Step 1: Find the mean of height and mean of weight\n",
    "meanHeight = sum(height) / len(height)\n",
    "meanWeight = sum(weight) / len(weight)\n",
    "\n",
    "print (\"1. Mean of Height (cm) is \", meanHeight)\n",
    "print (\"2. Mean of Weight (kg) is \", meanWeight)\n",
    "\n",
    "#Step 2: Subtract the mean of height from every height value (assign as a) and mean of weight from every weight value (assign as b)\n",
    "a = []\n",
    "for i in height:\n",
    "    a.append(i - meanHeight)\n",
    "\n",
    "b = []\n",
    "for j in weight:\n",
    "    b.append(j - meanWeight)\n",
    "\n",
    "#Step 3: Calculate (a x b), summation of a-squared and summation of b-squared\n",
    "ab = []\n",
    "for k in range(len(a)):\n",
    "    ab.append(a[k] * b[k])\n",
    "\n",
    "aSquared = []\n",
    "for l in height:\n",
    "    aSquared.append((l - meanHeight) ** 2)\n",
    "\n",
    "bSquared = []\n",
    "for m in weight:\n",
    "    bSquared.append((m - meanWeight) ** 2)\n",
    "\n",
    "#Step 4: Sum up ab, sum up aSquared and bSquared\n",
    "\n",
    "print (\"3. Summation of (a x b) is \", sum(ab))\n",
    "print (\"4. Summation of a-squared is \", sum(aSquared))\n",
    "print (\"5. Summation od b-squared is \", sum(bSquared))\n",
    "\n",
    "#Step 5: Find the correlation coefficient, r\n",
    "AB = ((sum(aSquared)) * (sum(bSquared)))\n",
    "sqrtAB = AB ** (0.5)\n",
    "\n",
    "r = sum(ab) / sqrtAB\n",
    "print (\"6. The correlation coefficient, r is \", r)"
   ]
  },
  {
   "cell_type": "markdown",
   "metadata": {
    "id": "7SadmKFJQpCe"
   },
   "source": [
    "### <font color = \"maroon\">Question 4</font>\n",
    "\n",
    "By referring to table in Question 1, import **numpy** and use it to calculate **the correlation coefficient, r** and compare with your previous **r**."
   ]
  },
  {
   "cell_type": "code",
   "execution_count": null,
   "metadata": {
    "colab": {
     "base_uri": "https://localhost:8080/",
     "height": 51
    },
    "executionInfo": {
     "elapsed": 940,
     "status": "ok",
     "timestamp": 1603338714828,
     "user": {
      "displayName": "Ummu Amirah",
      "photoUrl": "https://lh3.googleusercontent.com/a-/AOh14GjP1NlpYoc_oI22yqs_mrDA1sN2KGzfgGN0kht0=s64",
      "userId": "01871118759517508516"
     },
     "user_tz": -480
    },
    "id": "8LRawYW5QpCf",
    "outputId": "7a643578-0c65-4e1b-cd02-13d6ba99406d"
   },
   "outputs": [
    {
     "data": {
      "text/plain": [
       "array([[1.        , 0.15320778],\n",
       "       [0.15320778, 1.        ]])"
      ]
     },
     "execution_count": 19,
     "metadata": {
      "tags": []
     },
     "output_type": "execute_result"
    }
   ],
   "source": [
    "import numpy as np\n",
    "\n",
    "np.corrcoef(height, weight)"
   ]
  },
  {
   "cell_type": "markdown",
   "metadata": {
    "id": "iEINgYHWQpC_"
   },
   "source": [
    "### <font color = \"orange\">Question 5</font>\n",
    "\n",
    "Table below shows a list of 50 students with the days they present to class in one semester and the GPA they got for that semester. Studies show, a student who has many absence has a decrease in GPA. By referring to table below, create list for Days Present (as x) and GPA (as y). Predict type of relation between these two lists of data."
   ]
  },
  {
   "cell_type": "code",
   "execution_count": null,
   "metadata": {
    "colab": {
     "base_uri": "https://localhost:8080/",
     "height": 1000
    },
    "executionInfo": {
     "elapsed": 945,
     "status": "ok",
     "timestamp": 1603338718323,
     "user": {
      "displayName": "Ummu Amirah",
      "photoUrl": "https://lh3.googleusercontent.com/a-/AOh14GjP1NlpYoc_oI22yqs_mrDA1sN2KGzfgGN0kht0=s64",
      "userId": "01871118759517508516"
     },
     "user_tz": -480
    },
    "id": "oo3G96rnQpDD",
    "outputId": "1e36c51d-09c6-4426-a71f-1b85ed0a7138"
   },
   "outputs": [
    {
     "data": {
      "text/html": [
       "<style  type=\"text/css\" >\n",
       "#T_ef1f4fd2_1419_11eb_9395_0242ac1c0002row0_col0,#T_ef1f4fd2_1419_11eb_9395_0242ac1c0002row0_col1,#T_ef1f4fd2_1419_11eb_9395_0242ac1c0002row1_col0,#T_ef1f4fd2_1419_11eb_9395_0242ac1c0002row1_col1,#T_ef1f4fd2_1419_11eb_9395_0242ac1c0002row2_col0,#T_ef1f4fd2_1419_11eb_9395_0242ac1c0002row2_col1,#T_ef1f4fd2_1419_11eb_9395_0242ac1c0002row3_col0,#T_ef1f4fd2_1419_11eb_9395_0242ac1c0002row3_col1,#T_ef1f4fd2_1419_11eb_9395_0242ac1c0002row4_col0,#T_ef1f4fd2_1419_11eb_9395_0242ac1c0002row4_col1,#T_ef1f4fd2_1419_11eb_9395_0242ac1c0002row5_col0,#T_ef1f4fd2_1419_11eb_9395_0242ac1c0002row5_col1,#T_ef1f4fd2_1419_11eb_9395_0242ac1c0002row6_col0,#T_ef1f4fd2_1419_11eb_9395_0242ac1c0002row6_col1,#T_ef1f4fd2_1419_11eb_9395_0242ac1c0002row7_col0,#T_ef1f4fd2_1419_11eb_9395_0242ac1c0002row7_col1,#T_ef1f4fd2_1419_11eb_9395_0242ac1c0002row8_col0,#T_ef1f4fd2_1419_11eb_9395_0242ac1c0002row8_col1,#T_ef1f4fd2_1419_11eb_9395_0242ac1c0002row9_col0,#T_ef1f4fd2_1419_11eb_9395_0242ac1c0002row9_col1,#T_ef1f4fd2_1419_11eb_9395_0242ac1c0002row10_col0,#T_ef1f4fd2_1419_11eb_9395_0242ac1c0002row10_col1,#T_ef1f4fd2_1419_11eb_9395_0242ac1c0002row11_col0,#T_ef1f4fd2_1419_11eb_9395_0242ac1c0002row11_col1,#T_ef1f4fd2_1419_11eb_9395_0242ac1c0002row12_col0,#T_ef1f4fd2_1419_11eb_9395_0242ac1c0002row12_col1,#T_ef1f4fd2_1419_11eb_9395_0242ac1c0002row13_col0,#T_ef1f4fd2_1419_11eb_9395_0242ac1c0002row13_col1,#T_ef1f4fd2_1419_11eb_9395_0242ac1c0002row14_col0,#T_ef1f4fd2_1419_11eb_9395_0242ac1c0002row14_col1,#T_ef1f4fd2_1419_11eb_9395_0242ac1c0002row15_col0,#T_ef1f4fd2_1419_11eb_9395_0242ac1c0002row15_col1,#T_ef1f4fd2_1419_11eb_9395_0242ac1c0002row16_col0,#T_ef1f4fd2_1419_11eb_9395_0242ac1c0002row16_col1,#T_ef1f4fd2_1419_11eb_9395_0242ac1c0002row17_col0,#T_ef1f4fd2_1419_11eb_9395_0242ac1c0002row17_col1,#T_ef1f4fd2_1419_11eb_9395_0242ac1c0002row18_col0,#T_ef1f4fd2_1419_11eb_9395_0242ac1c0002row18_col1,#T_ef1f4fd2_1419_11eb_9395_0242ac1c0002row19_col0,#T_ef1f4fd2_1419_11eb_9395_0242ac1c0002row19_col1,#T_ef1f4fd2_1419_11eb_9395_0242ac1c0002row20_col0,#T_ef1f4fd2_1419_11eb_9395_0242ac1c0002row20_col1,#T_ef1f4fd2_1419_11eb_9395_0242ac1c0002row21_col0,#T_ef1f4fd2_1419_11eb_9395_0242ac1c0002row21_col1,#T_ef1f4fd2_1419_11eb_9395_0242ac1c0002row22_col0,#T_ef1f4fd2_1419_11eb_9395_0242ac1c0002row22_col1,#T_ef1f4fd2_1419_11eb_9395_0242ac1c0002row23_col0,#T_ef1f4fd2_1419_11eb_9395_0242ac1c0002row23_col1,#T_ef1f4fd2_1419_11eb_9395_0242ac1c0002row24_col0,#T_ef1f4fd2_1419_11eb_9395_0242ac1c0002row24_col1,#T_ef1f4fd2_1419_11eb_9395_0242ac1c0002row25_col0,#T_ef1f4fd2_1419_11eb_9395_0242ac1c0002row25_col1,#T_ef1f4fd2_1419_11eb_9395_0242ac1c0002row26_col0,#T_ef1f4fd2_1419_11eb_9395_0242ac1c0002row26_col1,#T_ef1f4fd2_1419_11eb_9395_0242ac1c0002row27_col0,#T_ef1f4fd2_1419_11eb_9395_0242ac1c0002row27_col1,#T_ef1f4fd2_1419_11eb_9395_0242ac1c0002row28_col0,#T_ef1f4fd2_1419_11eb_9395_0242ac1c0002row28_col1,#T_ef1f4fd2_1419_11eb_9395_0242ac1c0002row29_col0,#T_ef1f4fd2_1419_11eb_9395_0242ac1c0002row29_col1,#T_ef1f4fd2_1419_11eb_9395_0242ac1c0002row30_col0,#T_ef1f4fd2_1419_11eb_9395_0242ac1c0002row30_col1,#T_ef1f4fd2_1419_11eb_9395_0242ac1c0002row31_col0,#T_ef1f4fd2_1419_11eb_9395_0242ac1c0002row31_col1,#T_ef1f4fd2_1419_11eb_9395_0242ac1c0002row32_col0,#T_ef1f4fd2_1419_11eb_9395_0242ac1c0002row32_col1,#T_ef1f4fd2_1419_11eb_9395_0242ac1c0002row33_col0,#T_ef1f4fd2_1419_11eb_9395_0242ac1c0002row33_col1,#T_ef1f4fd2_1419_11eb_9395_0242ac1c0002row34_col0,#T_ef1f4fd2_1419_11eb_9395_0242ac1c0002row34_col1,#T_ef1f4fd2_1419_11eb_9395_0242ac1c0002row35_col0,#T_ef1f4fd2_1419_11eb_9395_0242ac1c0002row35_col1,#T_ef1f4fd2_1419_11eb_9395_0242ac1c0002row36_col0,#T_ef1f4fd2_1419_11eb_9395_0242ac1c0002row36_col1,#T_ef1f4fd2_1419_11eb_9395_0242ac1c0002row37_col0,#T_ef1f4fd2_1419_11eb_9395_0242ac1c0002row37_col1,#T_ef1f4fd2_1419_11eb_9395_0242ac1c0002row38_col0,#T_ef1f4fd2_1419_11eb_9395_0242ac1c0002row38_col1,#T_ef1f4fd2_1419_11eb_9395_0242ac1c0002row39_col0,#T_ef1f4fd2_1419_11eb_9395_0242ac1c0002row39_col1,#T_ef1f4fd2_1419_11eb_9395_0242ac1c0002row40_col0,#T_ef1f4fd2_1419_11eb_9395_0242ac1c0002row40_col1,#T_ef1f4fd2_1419_11eb_9395_0242ac1c0002row41_col0,#T_ef1f4fd2_1419_11eb_9395_0242ac1c0002row41_col1,#T_ef1f4fd2_1419_11eb_9395_0242ac1c0002row42_col0,#T_ef1f4fd2_1419_11eb_9395_0242ac1c0002row42_col1,#T_ef1f4fd2_1419_11eb_9395_0242ac1c0002row43_col0,#T_ef1f4fd2_1419_11eb_9395_0242ac1c0002row43_col1,#T_ef1f4fd2_1419_11eb_9395_0242ac1c0002row44_col0,#T_ef1f4fd2_1419_11eb_9395_0242ac1c0002row44_col1,#T_ef1f4fd2_1419_11eb_9395_0242ac1c0002row45_col0,#T_ef1f4fd2_1419_11eb_9395_0242ac1c0002row45_col1,#T_ef1f4fd2_1419_11eb_9395_0242ac1c0002row46_col0,#T_ef1f4fd2_1419_11eb_9395_0242ac1c0002row46_col1,#T_ef1f4fd2_1419_11eb_9395_0242ac1c0002row47_col0,#T_ef1f4fd2_1419_11eb_9395_0242ac1c0002row47_col1,#T_ef1f4fd2_1419_11eb_9395_0242ac1c0002row48_col0,#T_ef1f4fd2_1419_11eb_9395_0242ac1c0002row48_col1,#T_ef1f4fd2_1419_11eb_9395_0242ac1c0002row49_col0,#T_ef1f4fd2_1419_11eb_9395_0242ac1c0002row49_col1{\n",
       "            text-align:  center;\n",
       "        }</style><table id=\"T_ef1f4fd2_1419_11eb_9395_0242ac1c0002\" ><thead>    <tr>        <th class=\"blank level0\" ></th>        <th class=\"col_heading level0 col0\" >Days Present</th>        <th class=\"col_heading level0 col1\" >GPA</th>    </tr></thead><tbody>\n",
       "                <tr>\n",
       "                        <th id=\"T_ef1f4fd2_1419_11eb_9395_0242ac1c0002level0_row0\" class=\"row_heading level0 row0\" >0</th>\n",
       "                        <td id=\"T_ef1f4fd2_1419_11eb_9395_0242ac1c0002row0_col0\" class=\"data row0 col0\" >180</td>\n",
       "                        <td id=\"T_ef1f4fd2_1419_11eb_9395_0242ac1c0002row0_col1\" class=\"data row0 col1\" >4.000000</td>\n",
       "            </tr>\n",
       "            <tr>\n",
       "                        <th id=\"T_ef1f4fd2_1419_11eb_9395_0242ac1c0002level0_row1\" class=\"row_heading level0 row1\" >1</th>\n",
       "                        <td id=\"T_ef1f4fd2_1419_11eb_9395_0242ac1c0002row1_col0\" class=\"data row1 col0\" >150</td>\n",
       "                        <td id=\"T_ef1f4fd2_1419_11eb_9395_0242ac1c0002row1_col1\" class=\"data row1 col1\" >2.500000</td>\n",
       "            </tr>\n",
       "            <tr>\n",
       "                        <th id=\"T_ef1f4fd2_1419_11eb_9395_0242ac1c0002level0_row2\" class=\"row_heading level0 row2\" >2</th>\n",
       "                        <td id=\"T_ef1f4fd2_1419_11eb_9395_0242ac1c0002row2_col0\" class=\"data row2 col0\" >170</td>\n",
       "                        <td id=\"T_ef1f4fd2_1419_11eb_9395_0242ac1c0002row2_col1\" class=\"data row2 col1\" >4.000000</td>\n",
       "            </tr>\n",
       "            <tr>\n",
       "                        <th id=\"T_ef1f4fd2_1419_11eb_9395_0242ac1c0002level0_row3\" class=\"row_heading level0 row3\" >3</th>\n",
       "                        <td id=\"T_ef1f4fd2_1419_11eb_9395_0242ac1c0002row3_col0\" class=\"data row3 col0\" >180</td>\n",
       "                        <td id=\"T_ef1f4fd2_1419_11eb_9395_0242ac1c0002row3_col1\" class=\"data row3 col1\" >3.900000</td>\n",
       "            </tr>\n",
       "            <tr>\n",
       "                        <th id=\"T_ef1f4fd2_1419_11eb_9395_0242ac1c0002level0_row4\" class=\"row_heading level0 row4\" >4</th>\n",
       "                        <td id=\"T_ef1f4fd2_1419_11eb_9395_0242ac1c0002row4_col0\" class=\"data row4 col0\" >177</td>\n",
       "                        <td id=\"T_ef1f4fd2_1419_11eb_9395_0242ac1c0002row4_col1\" class=\"data row4 col1\" >3.750000</td>\n",
       "            </tr>\n",
       "            <tr>\n",
       "                        <th id=\"T_ef1f4fd2_1419_11eb_9395_0242ac1c0002level0_row5\" class=\"row_heading level0 row5\" >5</th>\n",
       "                        <td id=\"T_ef1f4fd2_1419_11eb_9395_0242ac1c0002row5_col0\" class=\"data row5 col0\" >180</td>\n",
       "                        <td id=\"T_ef1f4fd2_1419_11eb_9395_0242ac1c0002row5_col1\" class=\"data row5 col1\" >3.800000</td>\n",
       "            </tr>\n",
       "            <tr>\n",
       "                        <th id=\"T_ef1f4fd2_1419_11eb_9395_0242ac1c0002level0_row6\" class=\"row_heading level0 row6\" >6</th>\n",
       "                        <td id=\"T_ef1f4fd2_1419_11eb_9395_0242ac1c0002row6_col0\" class=\"data row6 col0\" >140</td>\n",
       "                        <td id=\"T_ef1f4fd2_1419_11eb_9395_0242ac1c0002row6_col1\" class=\"data row6 col1\" >2.900000</td>\n",
       "            </tr>\n",
       "            <tr>\n",
       "                        <th id=\"T_ef1f4fd2_1419_11eb_9395_0242ac1c0002level0_row7\" class=\"row_heading level0 row7\" >7</th>\n",
       "                        <td id=\"T_ef1f4fd2_1419_11eb_9395_0242ac1c0002row7_col0\" class=\"data row7 col0\" >169</td>\n",
       "                        <td id=\"T_ef1f4fd2_1419_11eb_9395_0242ac1c0002row7_col1\" class=\"data row7 col1\" >3.100000</td>\n",
       "            </tr>\n",
       "            <tr>\n",
       "                        <th id=\"T_ef1f4fd2_1419_11eb_9395_0242ac1c0002level0_row8\" class=\"row_heading level0 row8\" >8</th>\n",
       "                        <td id=\"T_ef1f4fd2_1419_11eb_9395_0242ac1c0002row8_col0\" class=\"data row8 col0\" >168</td>\n",
       "                        <td id=\"T_ef1f4fd2_1419_11eb_9395_0242ac1c0002row8_col1\" class=\"data row8 col1\" >3.250000</td>\n",
       "            </tr>\n",
       "            <tr>\n",
       "                        <th id=\"T_ef1f4fd2_1419_11eb_9395_0242ac1c0002level0_row9\" class=\"row_heading level0 row9\" >9</th>\n",
       "                        <td id=\"T_ef1f4fd2_1419_11eb_9395_0242ac1c0002row9_col0\" class=\"data row9 col0\" >152</td>\n",
       "                        <td id=\"T_ef1f4fd2_1419_11eb_9395_0242ac1c0002row9_col1\" class=\"data row9 col1\" >3.400000</td>\n",
       "            </tr>\n",
       "            <tr>\n",
       "                        <th id=\"T_ef1f4fd2_1419_11eb_9395_0242ac1c0002level0_row10\" class=\"row_heading level0 row10\" >10</th>\n",
       "                        <td id=\"T_ef1f4fd2_1419_11eb_9395_0242ac1c0002row10_col0\" class=\"data row10 col0\" >150</td>\n",
       "                        <td id=\"T_ef1f4fd2_1419_11eb_9395_0242ac1c0002row10_col1\" class=\"data row10 col1\" >3.300000</td>\n",
       "            </tr>\n",
       "            <tr>\n",
       "                        <th id=\"T_ef1f4fd2_1419_11eb_9395_0242ac1c0002level0_row11\" class=\"row_heading level0 row11\" >11</th>\n",
       "                        <td id=\"T_ef1f4fd2_1419_11eb_9395_0242ac1c0002row11_col0\" class=\"data row11 col0\" >170</td>\n",
       "                        <td id=\"T_ef1f4fd2_1419_11eb_9395_0242ac1c0002row11_col1\" class=\"data row11 col1\" >3.900000</td>\n",
       "            </tr>\n",
       "            <tr>\n",
       "                        <th id=\"T_ef1f4fd2_1419_11eb_9395_0242ac1c0002level0_row12\" class=\"row_heading level0 row12\" >12</th>\n",
       "                        <td id=\"T_ef1f4fd2_1419_11eb_9395_0242ac1c0002row12_col0\" class=\"data row12 col0\" >109</td>\n",
       "                        <td id=\"T_ef1f4fd2_1419_11eb_9395_0242ac1c0002row12_col1\" class=\"data row12 col1\" >1.350000</td>\n",
       "            </tr>\n",
       "            <tr>\n",
       "                        <th id=\"T_ef1f4fd2_1419_11eb_9395_0242ac1c0002level0_row13\" class=\"row_heading level0 row13\" >13</th>\n",
       "                        <td id=\"T_ef1f4fd2_1419_11eb_9395_0242ac1c0002row13_col0\" class=\"data row13 col0\" >180</td>\n",
       "                        <td id=\"T_ef1f4fd2_1419_11eb_9395_0242ac1c0002row13_col1\" class=\"data row13 col1\" >4.000000</td>\n",
       "            </tr>\n",
       "            <tr>\n",
       "                        <th id=\"T_ef1f4fd2_1419_11eb_9395_0242ac1c0002level0_row14\" class=\"row_heading level0 row14\" >14</th>\n",
       "                        <td id=\"T_ef1f4fd2_1419_11eb_9395_0242ac1c0002row14_col0\" class=\"data row14 col0\" >108</td>\n",
       "                        <td id=\"T_ef1f4fd2_1419_11eb_9395_0242ac1c0002row14_col1\" class=\"data row14 col1\" >1.000000</td>\n",
       "            </tr>\n",
       "            <tr>\n",
       "                        <th id=\"T_ef1f4fd2_1419_11eb_9395_0242ac1c0002level0_row15\" class=\"row_heading level0 row15\" >15</th>\n",
       "                        <td id=\"T_ef1f4fd2_1419_11eb_9395_0242ac1c0002row15_col0\" class=\"data row15 col0\" >175</td>\n",
       "                        <td id=\"T_ef1f4fd2_1419_11eb_9395_0242ac1c0002row15_col1\" class=\"data row15 col1\" >3.850000</td>\n",
       "            </tr>\n",
       "            <tr>\n",
       "                        <th id=\"T_ef1f4fd2_1419_11eb_9395_0242ac1c0002level0_row16\" class=\"row_heading level0 row16\" >16</th>\n",
       "                        <td id=\"T_ef1f4fd2_1419_11eb_9395_0242ac1c0002row16_col0\" class=\"data row16 col0\" >144</td>\n",
       "                        <td id=\"T_ef1f4fd2_1419_11eb_9395_0242ac1c0002row16_col1\" class=\"data row16 col1\" >2.980000</td>\n",
       "            </tr>\n",
       "            <tr>\n",
       "                        <th id=\"T_ef1f4fd2_1419_11eb_9395_0242ac1c0002level0_row17\" class=\"row_heading level0 row17\" >17</th>\n",
       "                        <td id=\"T_ef1f4fd2_1419_11eb_9395_0242ac1c0002row17_col0\" class=\"data row17 col0\" >120</td>\n",
       "                        <td id=\"T_ef1f4fd2_1419_11eb_9395_0242ac1c0002row17_col1\" class=\"data row17 col1\" >2.750000</td>\n",
       "            </tr>\n",
       "            <tr>\n",
       "                        <th id=\"T_ef1f4fd2_1419_11eb_9395_0242ac1c0002level0_row18\" class=\"row_heading level0 row18\" >18</th>\n",
       "                        <td id=\"T_ef1f4fd2_1419_11eb_9395_0242ac1c0002row18_col0\" class=\"data row18 col0\" >133</td>\n",
       "                        <td id=\"T_ef1f4fd2_1419_11eb_9395_0242ac1c0002row18_col1\" class=\"data row18 col1\" >2.750000</td>\n",
       "            </tr>\n",
       "            <tr>\n",
       "                        <th id=\"T_ef1f4fd2_1419_11eb_9395_0242ac1c0002level0_row19\" class=\"row_heading level0 row19\" >19</th>\n",
       "                        <td id=\"T_ef1f4fd2_1419_11eb_9395_0242ac1c0002row19_col0\" class=\"data row19 col0\" >160</td>\n",
       "                        <td id=\"T_ef1f4fd2_1419_11eb_9395_0242ac1c0002row19_col1\" class=\"data row19 col1\" >3.600000</td>\n",
       "            </tr>\n",
       "            <tr>\n",
       "                        <th id=\"T_ef1f4fd2_1419_11eb_9395_0242ac1c0002level0_row20\" class=\"row_heading level0 row20\" >20</th>\n",
       "                        <td id=\"T_ef1f4fd2_1419_11eb_9395_0242ac1c0002row20_col0\" class=\"data row20 col0\" >160</td>\n",
       "                        <td id=\"T_ef1f4fd2_1419_11eb_9395_0242ac1c0002row20_col1\" class=\"data row20 col1\" >3.500000</td>\n",
       "            </tr>\n",
       "            <tr>\n",
       "                        <th id=\"T_ef1f4fd2_1419_11eb_9395_0242ac1c0002level0_row21\" class=\"row_heading level0 row21\" >21</th>\n",
       "                        <td id=\"T_ef1f4fd2_1419_11eb_9395_0242ac1c0002row21_col0\" class=\"data row21 col0\" >159</td>\n",
       "                        <td id=\"T_ef1f4fd2_1419_11eb_9395_0242ac1c0002row21_col1\" class=\"data row21 col1\" >3.500000</td>\n",
       "            </tr>\n",
       "            <tr>\n",
       "                        <th id=\"T_ef1f4fd2_1419_11eb_9395_0242ac1c0002level0_row22\" class=\"row_heading level0 row22\" >22</th>\n",
       "                        <td id=\"T_ef1f4fd2_1419_11eb_9395_0242ac1c0002row22_col0\" class=\"data row22 col0\" >165</td>\n",
       "                        <td id=\"T_ef1f4fd2_1419_11eb_9395_0242ac1c0002row22_col1\" class=\"data row22 col1\" >3.500000</td>\n",
       "            </tr>\n",
       "            <tr>\n",
       "                        <th id=\"T_ef1f4fd2_1419_11eb_9395_0242ac1c0002level0_row23\" class=\"row_heading level0 row23\" >23</th>\n",
       "                        <td id=\"T_ef1f4fd2_1419_11eb_9395_0242ac1c0002row23_col0\" class=\"data row23 col0\" >180</td>\n",
       "                        <td id=\"T_ef1f4fd2_1419_11eb_9395_0242ac1c0002row23_col1\" class=\"data row23 col1\" >3.850000</td>\n",
       "            </tr>\n",
       "            <tr>\n",
       "                        <th id=\"T_ef1f4fd2_1419_11eb_9395_0242ac1c0002level0_row24\" class=\"row_heading level0 row24\" >24</th>\n",
       "                        <td id=\"T_ef1f4fd2_1419_11eb_9395_0242ac1c0002row24_col0\" class=\"data row24 col0\" >149</td>\n",
       "                        <td id=\"T_ef1f4fd2_1419_11eb_9395_0242ac1c0002row24_col1\" class=\"data row24 col1\" >2.950000</td>\n",
       "            </tr>\n",
       "            <tr>\n",
       "                        <th id=\"T_ef1f4fd2_1419_11eb_9395_0242ac1c0002level0_row25\" class=\"row_heading level0 row25\" >25</th>\n",
       "                        <td id=\"T_ef1f4fd2_1419_11eb_9395_0242ac1c0002row25_col0\" class=\"data row25 col0\" >180</td>\n",
       "                        <td id=\"T_ef1f4fd2_1419_11eb_9395_0242ac1c0002row25_col1\" class=\"data row25 col1\" >3.950000</td>\n",
       "            </tr>\n",
       "            <tr>\n",
       "                        <th id=\"T_ef1f4fd2_1419_11eb_9395_0242ac1c0002level0_row26\" class=\"row_heading level0 row26\" >26</th>\n",
       "                        <td id=\"T_ef1f4fd2_1419_11eb_9395_0242ac1c0002row26_col0\" class=\"data row26 col0\" >160</td>\n",
       "                        <td id=\"T_ef1f4fd2_1419_11eb_9395_0242ac1c0002row26_col1\" class=\"data row26 col1\" >3.650000</td>\n",
       "            </tr>\n",
       "            <tr>\n",
       "                        <th id=\"T_ef1f4fd2_1419_11eb_9395_0242ac1c0002level0_row27\" class=\"row_heading level0 row27\" >27</th>\n",
       "                        <td id=\"T_ef1f4fd2_1419_11eb_9395_0242ac1c0002row27_col0\" class=\"data row27 col0\" >155</td>\n",
       "                        <td id=\"T_ef1f4fd2_1419_11eb_9395_0242ac1c0002row27_col1\" class=\"data row27 col1\" >3.550000</td>\n",
       "            </tr>\n",
       "            <tr>\n",
       "                        <th id=\"T_ef1f4fd2_1419_11eb_9395_0242ac1c0002level0_row28\" class=\"row_heading level0 row28\" >28</th>\n",
       "                        <td id=\"T_ef1f4fd2_1419_11eb_9395_0242ac1c0002row28_col0\" class=\"data row28 col0\" >156</td>\n",
       "                        <td id=\"T_ef1f4fd2_1419_11eb_9395_0242ac1c0002row28_col1\" class=\"data row28 col1\" >3.580000</td>\n",
       "            </tr>\n",
       "            <tr>\n",
       "                        <th id=\"T_ef1f4fd2_1419_11eb_9395_0242ac1c0002level0_row29\" class=\"row_heading level0 row29\" >29</th>\n",
       "                        <td id=\"T_ef1f4fd2_1419_11eb_9395_0242ac1c0002row29_col0\" class=\"data row29 col0\" >145</td>\n",
       "                        <td id=\"T_ef1f4fd2_1419_11eb_9395_0242ac1c0002row29_col1\" class=\"data row29 col1\" >2.980000</td>\n",
       "            </tr>\n",
       "            <tr>\n",
       "                        <th id=\"T_ef1f4fd2_1419_11eb_9395_0242ac1c0002level0_row30\" class=\"row_heading level0 row30\" >30</th>\n",
       "                        <td id=\"T_ef1f4fd2_1419_11eb_9395_0242ac1c0002row30_col0\" class=\"data row30 col0\" >122</td>\n",
       "                        <td id=\"T_ef1f4fd2_1419_11eb_9395_0242ac1c0002row30_col1\" class=\"data row30 col1\" >1.500000</td>\n",
       "            </tr>\n",
       "            <tr>\n",
       "                        <th id=\"T_ef1f4fd2_1419_11eb_9395_0242ac1c0002level0_row31\" class=\"row_heading level0 row31\" >31</th>\n",
       "                        <td id=\"T_ef1f4fd2_1419_11eb_9395_0242ac1c0002row31_col0\" class=\"data row31 col0\" >131</td>\n",
       "                        <td id=\"T_ef1f4fd2_1419_11eb_9395_0242ac1c0002row31_col1\" class=\"data row31 col1\" >1.750000</td>\n",
       "            </tr>\n",
       "            <tr>\n",
       "                        <th id=\"T_ef1f4fd2_1419_11eb_9395_0242ac1c0002level0_row32\" class=\"row_heading level0 row32\" >32</th>\n",
       "                        <td id=\"T_ef1f4fd2_1419_11eb_9395_0242ac1c0002row32_col0\" class=\"data row32 col0\" >156</td>\n",
       "                        <td id=\"T_ef1f4fd2_1419_11eb_9395_0242ac1c0002row32_col1\" class=\"data row32 col1\" >2.200000</td>\n",
       "            </tr>\n",
       "            <tr>\n",
       "                        <th id=\"T_ef1f4fd2_1419_11eb_9395_0242ac1c0002level0_row33\" class=\"row_heading level0 row33\" >33</th>\n",
       "                        <td id=\"T_ef1f4fd2_1419_11eb_9395_0242ac1c0002row33_col0\" class=\"data row33 col0\" >166</td>\n",
       "                        <td id=\"T_ef1f4fd2_1419_11eb_9395_0242ac1c0002row33_col1\" class=\"data row33 col1\" >3.000000</td>\n",
       "            </tr>\n",
       "            <tr>\n",
       "                        <th id=\"T_ef1f4fd2_1419_11eb_9395_0242ac1c0002level0_row34\" class=\"row_heading level0 row34\" >34</th>\n",
       "                        <td id=\"T_ef1f4fd2_1419_11eb_9395_0242ac1c0002row34_col0\" class=\"data row34 col0\" >170</td>\n",
       "                        <td id=\"T_ef1f4fd2_1419_11eb_9395_0242ac1c0002row34_col1\" class=\"data row34 col1\" >3.000000</td>\n",
       "            </tr>\n",
       "            <tr>\n",
       "                        <th id=\"T_ef1f4fd2_1419_11eb_9395_0242ac1c0002level0_row35\" class=\"row_heading level0 row35\" >35</th>\n",
       "                        <td id=\"T_ef1f4fd2_1419_11eb_9395_0242ac1c0002row35_col0\" class=\"data row35 col0\" >155</td>\n",
       "                        <td id=\"T_ef1f4fd2_1419_11eb_9395_0242ac1c0002row35_col1\" class=\"data row35 col1\" >3.000000</td>\n",
       "            </tr>\n",
       "            <tr>\n",
       "                        <th id=\"T_ef1f4fd2_1419_11eb_9395_0242ac1c0002level0_row36\" class=\"row_heading level0 row36\" >36</th>\n",
       "                        <td id=\"T_ef1f4fd2_1419_11eb_9395_0242ac1c0002row36_col0\" class=\"data row36 col0\" >158</td>\n",
       "                        <td id=\"T_ef1f4fd2_1419_11eb_9395_0242ac1c0002row36_col1\" class=\"data row36 col1\" >3.150000</td>\n",
       "            </tr>\n",
       "            <tr>\n",
       "                        <th id=\"T_ef1f4fd2_1419_11eb_9395_0242ac1c0002level0_row37\" class=\"row_heading level0 row37\" >37</th>\n",
       "                        <td id=\"T_ef1f4fd2_1419_11eb_9395_0242ac1c0002row37_col0\" class=\"data row37 col0\" >170</td>\n",
       "                        <td id=\"T_ef1f4fd2_1419_11eb_9395_0242ac1c0002row37_col1\" class=\"data row37 col1\" >3.900000</td>\n",
       "            </tr>\n",
       "            <tr>\n",
       "                        <th id=\"T_ef1f4fd2_1419_11eb_9395_0242ac1c0002level0_row38\" class=\"row_heading level0 row38\" >38</th>\n",
       "                        <td id=\"T_ef1f4fd2_1419_11eb_9395_0242ac1c0002row38_col0\" class=\"data row38 col0\" >160</td>\n",
       "                        <td id=\"T_ef1f4fd2_1419_11eb_9395_0242ac1c0002row38_col1\" class=\"data row38 col1\" >3.150000</td>\n",
       "            </tr>\n",
       "            <tr>\n",
       "                        <th id=\"T_ef1f4fd2_1419_11eb_9395_0242ac1c0002level0_row39\" class=\"row_heading level0 row39\" >39</th>\n",
       "                        <td id=\"T_ef1f4fd2_1419_11eb_9395_0242ac1c0002row39_col0\" class=\"data row39 col0\" >165</td>\n",
       "                        <td id=\"T_ef1f4fd2_1419_11eb_9395_0242ac1c0002row39_col1\" class=\"data row39 col1\" >3.850000</td>\n",
       "            </tr>\n",
       "            <tr>\n",
       "                        <th id=\"T_ef1f4fd2_1419_11eb_9395_0242ac1c0002level0_row40\" class=\"row_heading level0 row40\" >40</th>\n",
       "                        <td id=\"T_ef1f4fd2_1419_11eb_9395_0242ac1c0002row40_col0\" class=\"data row40 col0\" >159</td>\n",
       "                        <td id=\"T_ef1f4fd2_1419_11eb_9395_0242ac1c0002row40_col1\" class=\"data row40 col1\" >2.700000</td>\n",
       "            </tr>\n",
       "            <tr>\n",
       "                        <th id=\"T_ef1f4fd2_1419_11eb_9395_0242ac1c0002level0_row41\" class=\"row_heading level0 row41\" >41</th>\n",
       "                        <td id=\"T_ef1f4fd2_1419_11eb_9395_0242ac1c0002row41_col0\" class=\"data row41 col0\" >119</td>\n",
       "                        <td id=\"T_ef1f4fd2_1419_11eb_9395_0242ac1c0002row41_col1\" class=\"data row41 col1\" >1.000000</td>\n",
       "            </tr>\n",
       "            <tr>\n",
       "                        <th id=\"T_ef1f4fd2_1419_11eb_9395_0242ac1c0002level0_row42\" class=\"row_heading level0 row42\" >42</th>\n",
       "                        <td id=\"T_ef1f4fd2_1419_11eb_9395_0242ac1c0002row42_col0\" class=\"data row42 col0\" >168</td>\n",
       "                        <td id=\"T_ef1f4fd2_1419_11eb_9395_0242ac1c0002row42_col1\" class=\"data row42 col1\" >3.250000</td>\n",
       "            </tr>\n",
       "            <tr>\n",
       "                        <th id=\"T_ef1f4fd2_1419_11eb_9395_0242ac1c0002level0_row43\" class=\"row_heading level0 row43\" >43</th>\n",
       "                        <td id=\"T_ef1f4fd2_1419_11eb_9395_0242ac1c0002row43_col0\" class=\"data row43 col0\" >175</td>\n",
       "                        <td id=\"T_ef1f4fd2_1419_11eb_9395_0242ac1c0002row43_col1\" class=\"data row43 col1\" >3.900000</td>\n",
       "            </tr>\n",
       "            <tr>\n",
       "                        <th id=\"T_ef1f4fd2_1419_11eb_9395_0242ac1c0002level0_row44\" class=\"row_heading level0 row44\" >44</th>\n",
       "                        <td id=\"T_ef1f4fd2_1419_11eb_9395_0242ac1c0002row44_col0\" class=\"data row44 col0\" >161</td>\n",
       "                        <td id=\"T_ef1f4fd2_1419_11eb_9395_0242ac1c0002row44_col1\" class=\"data row44 col1\" >2.800000</td>\n",
       "            </tr>\n",
       "            <tr>\n",
       "                        <th id=\"T_ef1f4fd2_1419_11eb_9395_0242ac1c0002level0_row45\" class=\"row_heading level0 row45\" >45</th>\n",
       "                        <td id=\"T_ef1f4fd2_1419_11eb_9395_0242ac1c0002row45_col0\" class=\"data row45 col0\" >160</td>\n",
       "                        <td id=\"T_ef1f4fd2_1419_11eb_9395_0242ac1c0002row45_col1\" class=\"data row45 col1\" >3.500000</td>\n",
       "            </tr>\n",
       "            <tr>\n",
       "                        <th id=\"T_ef1f4fd2_1419_11eb_9395_0242ac1c0002level0_row46\" class=\"row_heading level0 row46\" >46</th>\n",
       "                        <td id=\"T_ef1f4fd2_1419_11eb_9395_0242ac1c0002row46_col0\" class=\"data row46 col0\" >160</td>\n",
       "                        <td id=\"T_ef1f4fd2_1419_11eb_9395_0242ac1c0002row46_col1\" class=\"data row46 col1\" >3.400000</td>\n",
       "            </tr>\n",
       "            <tr>\n",
       "                        <th id=\"T_ef1f4fd2_1419_11eb_9395_0242ac1c0002level0_row47\" class=\"row_heading level0 row47\" >47</th>\n",
       "                        <td id=\"T_ef1f4fd2_1419_11eb_9395_0242ac1c0002row47_col0\" class=\"data row47 col0\" >150</td>\n",
       "                        <td id=\"T_ef1f4fd2_1419_11eb_9395_0242ac1c0002row47_col1\" class=\"data row47 col1\" >2.300000</td>\n",
       "            </tr>\n",
       "            <tr>\n",
       "                        <th id=\"T_ef1f4fd2_1419_11eb_9395_0242ac1c0002level0_row48\" class=\"row_heading level0 row48\" >48</th>\n",
       "                        <td id=\"T_ef1f4fd2_1419_11eb_9395_0242ac1c0002row48_col0\" class=\"data row48 col0\" >140</td>\n",
       "                        <td id=\"T_ef1f4fd2_1419_11eb_9395_0242ac1c0002row48_col1\" class=\"data row48 col1\" >2.500000</td>\n",
       "            </tr>\n",
       "            <tr>\n",
       "                        <th id=\"T_ef1f4fd2_1419_11eb_9395_0242ac1c0002level0_row49\" class=\"row_heading level0 row49\" >49</th>\n",
       "                        <td id=\"T_ef1f4fd2_1419_11eb_9395_0242ac1c0002row49_col0\" class=\"data row49 col0\" >148</td>\n",
       "                        <td id=\"T_ef1f4fd2_1419_11eb_9395_0242ac1c0002row49_col1\" class=\"data row49 col1\" >2.350000</td>\n",
       "            </tr>\n",
       "    </tbody></table>"
      ],
      "text/plain": [
       "<pandas.io.formats.style.Styler at 0x7f4d1d8e8358>"
      ]
     },
     "execution_count": 20,
     "metadata": {
      "tags": []
     },
     "output_type": "execute_result"
    }
   ],
   "source": [
    "import pandas as pd\n",
    "\n",
    "days = [180, 150, 170, 180, 177, 180, 140, 169, 168, 152, 150, 170, 109, 180, 108, 175, 144, 120, 133, 160, 160, 159, 165, 180, 149, 180, 160, 155, 156, 145, 122, 131, 156, 166, 170, 155, 158, 170, 160, 165, 159, 119, 168, 175, 161, 160, 160, 150, 140, 148]\n",
    "gpa = [4.00, 2.50, 4.00, 3.90, 3.75, 3.80, 2.90, 3.10, 3.25, 3.40, 3.30, 3.90, 1.35, 4.00, 1.00, 3.85, 2.98, 2.75, 2.75, 3.60, 3.50, 3.50, 3.50, 3.85, 2.95, 3.95, 3.65, 3.55, 3.58, 2.98, 1.50, 1.75, 2.20, 3.00, 3.00, 3.00, 3.15, 3.90, 3.15, 3.85, 2.70, 1.00, 3.25, 3.90, 2.80, 3.50, 3.40, 2.30, 2.50, 2.35]\n",
    "\n",
    "table = pd.DataFrame(days, columns = ['Days Present']); table['GPA'] = gpa\n",
    "table\n",
    "table.style.set_properties(**{'text-align' : 'center'})"
   ]
  },
  {
   "cell_type": "code",
   "execution_count": null,
   "metadata": {
    "colab": {
     "base_uri": "https://localhost:8080/",
     "height": 300
    },
    "executionInfo": {
     "elapsed": 1021,
     "status": "ok",
     "timestamp": 1603338723389,
     "user": {
      "displayName": "Ummu Amirah",
      "photoUrl": "https://lh3.googleusercontent.com/a-/AOh14GjP1NlpYoc_oI22yqs_mrDA1sN2KGzfgGN0kht0=s64",
      "userId": "01871118759517508516"
     },
     "user_tz": -480
    },
    "id": "KSif6nQYQpDT",
    "outputId": "d1203e13-cf1f-4809-b3bc-b7e9ba0088c2"
   },
   "outputs": [
    {
     "data": {
      "image/png": "[encoded data removed]",
      "text/plain": [
       "<Figure size 432x288 with 1 Axes>"
      ]
     },
     "metadata": {
      "needs_background": "light",
      "tags": []
     },
     "output_type": "display_data"
    }
   ],
   "source": [
    "x = [180, 150, 170, 180, 177, 180, 140, 169, 168, 152, 150, 170, 109, 180, 108, 175, 144, 120, 133, 160, 160, 159, 165, 180, 149, 180, 160, 155, 156, 145, 122, 131, 156, 166, 170, 155, 158, 170, 160, 165, 159, 119, 168, 175, 161, 160, 160, 150, 140, 148]\n",
    "y = [4.00, 2.50, 4.00, 3.90, 3.75, 3.80, 2.90, 3.10, 3.25, 3.40, 3.30, 3.90, 1.35, 4.00, 1.00, 3.85, 2.98, 2.75, 2.75, 3.60, 3.50, 3.50, 3.50, 3.85, 2.95, 3.95, 3.65, 3.55, 3.58, 2.98, 1.50, 1.75, 2.20, 3.00, 3.00, 3.00, 3.15, 3.90, 3.15, 3.85, 2.70, 1.00, 3.25, 3.90, 2.80, 3.50, 3.40, 2.30, 2.50, 2.35]\n",
    "\n",
    "import matplotlib.pyplot as plt\n",
    "\n",
    "plt.scatter(x, y, c = \"darkorange\", s = 100, marker = \"o\")\n",
    "plt.xlabel(\"Days Present\", fontsize = 12); plt.ylabel(\"GPA\", fontsize = 12)\n",
    "plt.xticks(size = 10); plt.yticks(size = 10)\n",
    "plt.title(\"Days Present versus GPA\", fontsize = 15)\n",
    "plt.show();"
   ]
  },
  {
   "cell_type": "markdown",
   "metadata": {
    "id": "ctBOa5_QQpDi"
   },
   "source": [
    "**Conclusion:** The graph shown, as the number of days present in class increase, the GPA also increases.\n",
    "\n",
    "**Type of Relation:** Positive Linear Correlation"
   ]
  },
  {
   "cell_type": "markdown",
   "metadata": {
    "id": "DPS20LesQpDj"
   },
   "source": [
    "### <font color = \"orange\">Question 7</font>\n",
    "\n",
    "By referring to table in Question 5, calculate the **correlation coefficient, r** step by step. "
   ]
  },
  {
   "cell_type": "code",
   "execution_count": null,
   "metadata": {
    "colab": {
     "base_uri": "https://localhost:8080/",
     "height": 119
    },
    "executionInfo": {
     "elapsed": 1073,
     "status": "ok",
     "timestamp": 1603338756131,
     "user": {
      "displayName": "Ummu Amirah",
      "photoUrl": "https://lh3.googleusercontent.com/a-/AOh14GjP1NlpYoc_oI22yqs_mrDA1sN2KGzfgGN0kht0=s64",
      "userId": "01871118759517508516"
     },
     "user_tz": -480
    },
    "id": "jB_9kKjiQpDl",
    "outputId": "6250a107-fa5f-4fcc-8c34-1f9ea5d912be"
   },
   "outputs": [
    {
     "name": "stdout",
     "output_type": "stream",
     "text": [
      "1. Mean of Height (cm) is  156.34\n",
      "2. Mean of Weight (kg) is  3.105800000000001\n",
      "3. Summation of (a x b) is  612.3613999999999\n",
      "4. Summation of a-squared is  16763.219999999994\n",
      "5. Summation od b-squared is  29.820018000000008\n",
      "6. The correlation coefficient, r is  0.8661141508214935\n"
     ]
    }
   ],
   "source": [
    "x = [180, 150, 170, 180, 177, 180, 140, 169, 168, 152, 150, 170, 109, 180, 108, 175, 144, 120, 133, 160, 160, 159, 165, 180, 149, 180, 160, 155, 156, 145, 122, 131, 156, 166, 170, 155, 158, 170, 160, 165, 159, 119, 168, 175, 161, 160, 160, 150, 140, 148]\n",
    "y = [4.00, 2.50, 4.00, 3.90, 3.75, 3.80, 2.90, 3.10, 3.25, 3.40, 3.30, 3.90, 1.35, 4.00, 1.00, 3.85, 2.98, 2.75, 2.75, 3.60, 3.50, 3.50, 3.50, 3.85, 2.95, 3.95, 3.65, 3.55, 3.58, 2.98, 1.50, 1.75, 2.20, 3.00, 3.00, 3.00, 3.15, 3.90, 3.15, 3.85, 2.70, 1.00, 3.25, 3.90, 2.80, 3.50, 3.40, 2.30, 2.50, 2.35]\n",
    "\n",
    "#Step 1: Find the mean of height and mean of weight\n",
    "meanX = sum(x) / len(x)\n",
    "meanY = sum(y) / len(y)\n",
    "\n",
    "print (\"1. Mean of Height (cm) is \", meanX)\n",
    "print (\"2. Mean of Weight (kg) is \", meanY)\n",
    "\n",
    "#Step 2: Subtract the mean of x from every x value (assign as a) and mean of y from every y value (assign as b)\n",
    "a = []\n",
    "for i in x:\n",
    "    a.append(i - meanX)\n",
    "\n",
    "b = []\n",
    "for j in y:\n",
    "    b.append(j - meanY)\n",
    "\n",
    "#Step 3: Calculate (a x b), summation of a-squared and summation of b-squared\n",
    "ab = []\n",
    "for k in range(len(a)):\n",
    "    ab.append(a[k] * b[k])\n",
    "\n",
    "aSquared = []\n",
    "for l in x:\n",
    "    aSquared.append((l - meanX) ** 2)\n",
    "\n",
    "bSquared = []\n",
    "for m in y:\n",
    "    bSquared.append((m - meanY) ** 2)\n",
    "\n",
    "#Step 4: Sum up ab, sum up aSquared and bSquared\n",
    "\n",
    "print (\"3. Summation of (a x b) is \", sum(ab))\n",
    "print (\"4. Summation of a-squared is \", sum(aSquared))\n",
    "print (\"5. Summation od b-squared is \", sum(bSquared))\n",
    "\n",
    "#Step 5: Find the correlation coefficient, r\n",
    "AB = ((sum(aSquared)) * (sum(bSquared)))\n",
    "sqrtAB = AB ** (0.5)\n",
    "\n",
    "r = sum(ab) / sqrtAB\n",
    "print (\"6. The correlation coefficient, r is \", r)"
   ]
  },
  {
   "cell_type": "markdown",
   "metadata": {
    "id": "NLeJvKV5QpDr"
   },
   "source": [
    "### <font color = \"orange\">Question 8</font>\n",
    "\n",
    "By referring to table in Question 5, import **numpy** and use it to calculate **the correlation coefficient, r** and compare with your previous **r**."
   ]
  },
  {
   "cell_type": "code",
   "execution_count": null,
   "metadata": {
    "colab": {
     "base_uri": "https://localhost:8080/",
     "height": 68
    },
    "executionInfo": {
     "elapsed": 965,
     "status": "ok",
     "timestamp": 1603338766227,
     "user": {
      "displayName": "Ummu Amirah",
      "photoUrl": "https://lh3.googleusercontent.com/a-/AOh14GjP1NlpYoc_oI22yqs_mrDA1sN2KGzfgGN0kht0=s64",
      "userId": "01871118759517508516"
     },
     "user_tz": -480
    },
    "id": "B5S_5OhXQpDs",
    "outputId": "b82565e1-d525-4015-8059-68aac03b3e5f"
   },
   "outputs": [
    {
     "name": "stdout",
     "output_type": "stream",
     "text": [
      "The correlation coefficient is \n",
      "[[1.         0.86611415]\n",
      " [0.86611415 1.        ]]\n"
     ]
    }
   ],
   "source": [
    "import numpy as np\n",
    "\n",
    "print( \"The correlation coefficient is \")\n",
    "print (np.corrcoef(x, y))"
   ]
  },
  {
   "cell_type": "markdown",
   "metadata": {
    "id": "XRIiNfIbQpDy"
   },
   "source": [
    "### <font color = \"darkorchid\">Question 9</font>\n",
    "\n",
    "A study was conducted to investigate the relationship between Height and Shoe Size. Create the lists for Height (as x) and Shoe Size (as y)."
   ]
  },
  {
   "cell_type": "code",
   "execution_count": null,
   "metadata": {
    "id": "kK1NwP6uQpDz"
   },
   "outputs": [],
   "source": [
    "height = [173.0, 173.0, 162.0, 163.0, 172.0, 170.0, 171.0, 167.0, 162.0, 151.0, 149.9, 149.9, 170.0, 175.0, 167.0]\n",
    "shoesize = [6.0, 9.0, 7.0, 8.0, 11.0, 10.0, 8.0, 7.0, 7.0, 6.0, 4.0, 4.0, 10.0, 10.5, 6]\n",
    "\n",
    "table = pd.DataFrame(height, columns = ['Height (cm)']); table['Shoe Size'] = shoesize\n",
    "table\n",
    "table.style.set_properties(**{'text-align' : 'center'})"
   ]
  },
  {
   "cell_type": "code",
   "execution_count": null,
   "metadata": {
    "colab": {
     "base_uri": "https://localhost:8080/",
     "height": 300
    },
    "executionInfo": {
     "elapsed": 965,
     "status": "ok",
     "timestamp": 1603338774685,
     "user": {
      "displayName": "Ummu Amirah",
      "photoUrl": "https://lh3.googleusercontent.com/a-/AOh14GjP1NlpYoc_oI22yqs_mrDA1sN2KGzfgGN0kht0=s64",
      "userId": "01871118759517508516"
     },
     "user_tz": -480
    },
    "id": "Kqq5COanQpEB",
    "outputId": "bd05558f-f2b1-4efb-e9c5-06bffc92640e"
   },
   "outputs": [
    {
     "data": {
      "image/png": "[encoded data removed]",
      "text/plain": [
       "<Figure size 432x288 with 1 Axes>"
      ]
     },
     "metadata": {
      "needs_background": "light",
      "tags": []
     },
     "output_type": "display_data"
    }
   ],
   "source": [
    "height = [173.0, 173.0, 162.0, 163.0, 172.0, 170.0, 171.0, 167.0, 162.0, 151.0, 149.9, 149.9, 170.0, 175.0, 167.0]\n",
    "shoesize = [6.0, 9.0, 7.0, 8.0, 11.0, 10.0, 8.0, 7.0, 7.0, 6.0, 4.0, 4.0, 10.0, 10.5, 6]\n",
    "\n",
    "import matplotlib.pyplot as plt\n",
    "\n",
    "plt.scatter(height, shoesize, c = \"darkorchid\", s = 100, marker = \"o\")\n",
    "plt.xlabel(\"Height (cm)\", fontsize = 12); plt.ylabel(\"Shoe Size\", fontsize = 12)\n",
    "plt.xticks(size = 10); plt.yticks(size = 10)\n",
    "plt.title(\"Height (cm) versus Shoe Size\", fontsize = 15)\n",
    "plt.show();"
   ]
  },
  {
   "cell_type": "markdown",
   "metadata": {
    "id": "jobJx2eaQpEM"
   },
   "source": [
    "### <font color = \"darkorchid\">Question 10</font>\n",
    "\n",
    "By referring to table in Question 9, import **numpy** and use it to calculate **the correlation coefficient, r** and write down a short conclusion with your r value."
   ]
  },
  {
   "cell_type": "code",
   "execution_count": null,
   "metadata": {
    "colab": {
     "base_uri": "https://localhost:8080/",
     "height": 51
    },
    "executionInfo": {
     "elapsed": 916,
     "status": "ok",
     "timestamp": 1603338782558,
     "user": {
      "displayName": "Ummu Amirah",
      "photoUrl": "https://lh3.googleusercontent.com/a-/AOh14GjP1NlpYoc_oI22yqs_mrDA1sN2KGzfgGN0kht0=s64",
      "userId": "01871118759517508516"
     },
     "user_tz": -480
    },
    "id": "QBiL_QOaQpEN",
    "outputId": "d00bb237-e8ad-477c-b50a-87219f9a816d"
   },
   "outputs": [
    {
     "name": "stdout",
     "output_type": "stream",
     "text": [
      "[[1.        0.7746235]\n",
      " [0.7746235 1.       ]]\n"
     ]
    }
   ],
   "source": [
    "import numpy as np\n",
    "\n",
    "print ((np.corrcoef(height, shoesize)))"
   ]
  },
  {
   "cell_type": "markdown",
   "metadata": {
    "id": "wYTQbdzBQpEW"
   },
   "source": [
    "**Conclusion:** The correlation coefficient, r = 0.78 shown that the relation between height and shoe size is low positive correlation as well as the graph plotted."
   ]
  }
 ],
 "metadata": {
  "anaconda-cloud": {},
  "colab": {
   "name": "3.1-Correlation.ipynb",
   "provenance": []
  },
  "kernelspec": {
   "display_name": "Python 3",
   "language": "python",
   "name": "python3"
  },
  "language_info": {
   "codemirror_mode": {
    "name": "ipython",
    "version": 3
   },
   "file_extension": ".py",
   "mimetype": "text/x-python",
   "name": "python",
   "nbconvert_exporter": "python",
   "pygments_lexer": "ipython3",
   "version": "3.9.4"
  }
 },
 "nbformat": 4,
 "nbformat_minor": 1
}
